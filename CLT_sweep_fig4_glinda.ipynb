{
 "cells": [
  {
   "cell_type": "code",
   "execution_count": null,
   "metadata": {},
   "outputs": [],
   "source": [
    "from utils import *\n",
    "from objects import *\n",
    "from sweeper_helperfunctions import *"
   ]
  },
  {
   "cell_type": "code",
   "execution_count": null,
   "metadata": {},
   "outputs": [],
   "source": [
    "design = metal.designs.design_planar.DesignPlanar()\n",
    "gui = metal.MetalGUI(design)\n",
    "design.overwrite_enabled = True"
   ]
  },
  {
   "cell_type": "markdown",
   "metadata": {},
   "source": [
    "**Defining the bounds for sweep variables with everything else fixed to be compatible with Qubit+Claw LOM sims**"
   ]
  },
  {
   "cell_type": "code",
   "execution_count": null,
   "metadata": {},
   "outputs": [],
   "source": [
    "cpw_sweep_opts = Dict(\n",
    "                fillet = '49.9um',\n",
    "                total_length = [\"3830um\",\"3900um\",\"3970um\"],\n",
    "                trace_width = \"11.7um\",\n",
    "                trace_gap = '5.1um')"
   ]
  },
  {
   "cell_type": "code",
   "execution_count": null,
   "metadata": {},
   "outputs": [],
   "source": [
    "claw_sweep_opts = dict(\n",
    "    connection_pads=dict(\n",
    "        readout = dict(connector_location = '90', \n",
    "                 connector_type = '0', \n",
    "                 claw_length = [f\"{70+i*10}um\" for i in range(39)],\n",
    "                 ground_spacing = '4.1um', \n",
    "                 claw_gap = '5.1um', \n",
    "                 claw_width = '15um',\n",
    "                 claw_cpw_width = \"11.7um\",\n",
    "                 claw_cpw_length = '0um'\n",
    "                 ),\n",
    "    ),\n",
    "    cross_width = '30um', # does not matter\n",
    "    cross_length = '240um',  # does not matter\n",
    "    cross_gap = '30um',  # does not matter\n",
    ")"
   ]
  },
  {
   "cell_type": "code",
   "execution_count": null,
   "metadata": {},
   "outputs": [],
   "source": [
    "cplr_sweep_opts = Dict(prime_width = \"11.7um\",\n",
    "            prime_gap = '5.1um',\n",
    "            second_width = \"11.7um\",\n",
    "            second_gap = '5.1um',\n",
    "            coupling_space = '7.9um',\n",
    "            coupling_length = '225um',\n",
    "            open_termination = False,\n",
    "            down_length = '50um')"
   ]
  },
  {
   "cell_type": "markdown",
   "metadata": {},
   "source": [
    "**Update the simulation bounds to the part that you want to run on this machine**"
   ]
  },
  {
   "cell_type": "code",
   "execution_count": null,
   "metadata": {},
   "outputs": [],
   "source": [
    "sweep_opts = Dict(claw_opts = claw_sweep_opts, cpw_opts = cpw_sweep_opts, cplr_opts = cplr_sweep_opts)"
   ]
  },
  {
   "cell_type": "markdown",
   "metadata": {},
   "source": [
    "# UPDATE `comp_id`!!!"
   ]
  },
  {
   "cell_type": "code",
   "execution_count": null,
   "metadata": {},
   "outputs": [],
   "source": [
    "comps_available = {\n",
    "    \"Sabrina\":0,\n",
    "    \"Glinda\":1,\n",
    "    \"Saruman\":2,\n",
    "    \"VM1\":3, #?\n",
    "    \"VM2\":4, #?\n",
    "}"
   ]
  },
  {
   "cell_type": "code",
   "execution_count": null,
   "metadata": {},
   "outputs": [],
   "source": [
    "comp_id = \"Sabrina\"  # Replace with actual computer name"
   ]
  },
  {
   "cell_type": "code",
   "execution_count": null,
   "metadata": {},
   "outputs": [],
   "source": [
    "N = len(comps_available)  # Number of computers\n",
    "sweep_opts_chunks = chunk_sweep_options(sweep_opts, N)"
   ]
  },
  {
   "cell_type": "code",
   "execution_count": null,
   "metadata": {},
   "outputs": [],
   "source": [
    "sweep_opts_deployed = sweep_opts_chunks[comps_available[comp_id]]  # Get the i-th chunk\n",
    "sweep_opts_deployed"
   ]
  },
  {
   "cell_type": "markdown",
   "metadata": {},
   "source": [
    "**Creating the required projects**"
   ]
  },
  {
   "cell_type": "code",
   "execution_count": null,
   "metadata": {},
   "outputs": [],
   "source": [
    "uids = []\n",
    "current_dir = os.getcwd()  # Current directory\n",
    "project_path = os.path.join(current_dir, 'project_storage')  #\n",
    "\n",
    "create_project_path(project_path)\n",
    "csv_path = os.path.join(project_path, 'uids.csv')\n",
    "\n",
    "for param in extract_QSweep_parameters(sweep_opts_deployed):\n",
    "    uid = '_'.join([param[\"cpw_opts\"][\"total_length\"], param[\"claw_opts\"][\"connection_pads\"][\"readout\"][\"claw_length\"]])\n",
    "    uids.append(f\"clt_sweep_{uid}\")\n",
    "\n",
    "write_uids_to_csv(uids, csv_path)\n",
    "print(f\"UIDs have been written to \\n{csv_path}\")"
   ]
  },
  {
   "cell_type": "markdown",
   "metadata": {},
   "source": [
    "Update `csv_path` in `create_new_project.py` with the path above ^"
   ]
  },
  {
   "cell_type": "markdown",
   "metadata": {},
   "source": [
    "# STOP AND RUN the `create_new_project.py` script within Ansys before proceeding"
   ]
  },
  {
   "cell_type": "markdown",
   "metadata": {},
   "source": [
    "If all the projects are now available. Render the design into them using the following two cells"
   ]
  },
  {
   "cell_type": "code",
   "execution_count": null,
   "metadata": {},
   "outputs": [],
   "source": [
    "remove_lock_files(project_path)"
   ]
  },
  {
   "cell_type": "code",
   "execution_count": null,
   "metadata": {},
   "outputs": [],
   "source": [
    "CLT_epr_sweep(design, sweep_opts_deployed, project_path)"
   ]
  },
  {
   "cell_type": "markdown",
   "metadata": {},
   "source": [
    "# Start 4 simulation jobs via \"Submit Jobs\"\n",
    "\n",
    "Monitor these jobs and start 4 more. Update the progress on OneNote"
   ]
  },
  {
   "cell_type": "code",
   "execution_count": null,
   "metadata": {},
   "outputs": [],
   "source": [
    "import csv\n",
    "import os\n",
    "import pyEPR as epr\n",
    "\n",
    "\n",
    "def get_pinfo(path, project_name, design_name):\n",
    "    pinfo = epr.ProjectInfo(project_path=path,\n",
    "                            project_name=project_name,\n",
    "                            design_name=design_name)\n",
    "    return pinfo\n",
    "\n",
    "# Define the CSV file path and project directory\n",
    "#csv_path = r\"D:\\andre\\cavity_sweeps\\project_storage\\uids.csv\" # change this\n",
    "#project_path = os.path.dirname(csv_path)\n",
    "\n",
    "# design name\n",
    "design_name = \"CavitySweep_hfss\"\n",
    "\n",
    "# Initialize a list to hold pinfo objects\n",
    "pinfo_objects = []\n",
    "\n",
    "# Read the project names from the CSV file\n",
    "\n",
    "with open(csv_path, 'r') as csvfile:\n",
    "    csv_reader = csv.reader(csvfile)\n",
    "    header = next(csv_reader)  # Skip the header\n",
    "    for row in csv_reader:\n",
    "        project_name = row[0]\n",
    "        print(project_name)\n",
    "        # Generate the pinfo object for each project\n",
    "        try:\n",
    "            pinfo = get_pinfo(project_path, project_name, design_name)\n",
    "            pinfo_objects.append(pinfo)\n",
    "        except:\n",
    "            print(f\"Skipping {project_name}\")\n",
    "\n",
    "\n",
    "# Andre cavity sweep setup used\n",
    "setup = {\n",
    "        \"sim_type\": \"epr\",\n",
    "        \"setup\": {\n",
    "            \"name\": \"Setup\",\n",
    "            \"reuse_selected_design\": True,\n",
    "            \"reuse_setup\": True,\n",
    "            \"min_freq_ghz\": 1,\n",
    "            \"n_modes\": 1,\n",
    "            \"max_delta_f\": 0.05,\n",
    "            \"max_passes\": 50,\n",
    "            \"min_passes\": 1,\n",
    "            \"min_converged\": 1,\n",
    "            \"pct_refinement\": 30,\n",
    "            \"basis_order\": 1,\n",
    "            \"vars\": {\n",
    "                \"Lj\": \"0nH\",\n",
    "                \"Cj\": \"0fF\"\n",
    "            },\n",
    "            \"min_converged_passes\": 2\n",
    "        }\n",
    "    }\n",
    "\n",
    "\n",
    "# analayze and store the data\n",
    "for i,param in enumerate(extract_QSweep_parameters(sweep_opts_deployed)):\n",
    "    # read results\n",
    "    pinfo = pinfo_objects[i]\n",
    "    \n",
    "    # setup pyEPR\n",
    "    pinfo.dissipative['dielectrics_bulk'] = ['main'] # Dissipative elements: specify\n",
    "    # Next 2 lines are counterinuitive, since there is no junction in this resonator.\n",
    "    # However, these are necessary to make pyEPR work correctly. Please do note delete\n",
    "    pinfo.design.set_variable('Lj', '12 nH')\n",
    "    pinfo.design.set_variable('Cj', '1 fF')\n",
    "    pinfo.validate_junction_info() # Check that valid names of variables and objects have been supplied.\n",
    "\n",
    "    # get results\n",
    "    eprh = epr.DistributedAnalysis(pinfo) # epr hfss analysis \n",
    "    epr_data = eprh.get_ansys_frequencies_all()\n",
    "    freq = epr_data[\"Freq. (GHz)\"].values[0] # GHz\n",
    "    Q = epr_data[\"Quality Factor\"].values[0] # unitless\n",
    "    kappa = (freq*1e9 / Q)*1e-6 # MHz\n",
    "\n",
    "    #store results\n",
    "\n",
    "    data_df = {\n",
    "        \"design_options\": {\n",
    "            \"coupling_type\": \"CLT\",\n",
    "            \"geometry_dict\": param\n",
    "        },\n",
    "        \"sim_options\": {\n",
    "            \"sim_type\": \"epr\",\n",
    "            \"setup\": setup,\n",
    "        },\n",
    "        \"sim_results\": {\n",
    "            \"cavity_frequency\": freq,\n",
    "            \"Q\": Q,\n",
    "            \"kappa\": kappa\n",
    "        },\n",
    "        \"misc\": {}\n",
    "    }\n",
    "\n",
    "    # filename = f\"CLT_cpw{cpw.options.total_length}_claw{claw.options.connection_pads.readout.claw_width}_clength{coupler.options.coupling_length}\"\n",
    "    save_simulation_data_to_json(data_df, pinfo.project_name)"
   ]
  }
 ],
 "metadata": {
  "kernelspec": {
   "display_name": "Python 3",
   "language": "python",
   "name": "python3"
  },
  "language_info": {
   "codemirror_mode": {
    "name": "ipython",
    "version": 3
   },
   "file_extension": ".py",
   "mimetype": "text/x-python",
   "name": "python",
   "nbconvert_exporter": "python",
   "pygments_lexer": "ipython3",
   "version": "3.11.3"
  },
  "orig_nbformat": 4
 },
 "nbformat": 4,
 "nbformat_minor": 2
}
