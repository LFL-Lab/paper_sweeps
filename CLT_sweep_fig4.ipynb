{
 "cells": [
  {
   "cell_type": "code",
   "execution_count": 1,
   "metadata": {},
   "outputs": [],
   "source": [
    "from utils import *\n",
    "from objects import *\n",
    "from sweeper_helperfunctions import *"
   ]
  },
  {
   "cell_type": "code",
   "execution_count": 2,
   "metadata": {},
   "outputs": [],
   "source": [
    "design = metal.designs.design_planar.DesignPlanar()\n",
    "gui = metal.MetalGUI(design)\n",
    "design.overwrite_enabled = True"
   ]
  },
  {
   "cell_type": "markdown",
   "metadata": {},
   "source": [
    "**Defining the bounds for sweep variables with everything else fixed to be compatible with Qubit+Claw LOM sims**"
   ]
  },
  {
   "cell_type": "code",
   "execution_count": 3,
   "metadata": {},
   "outputs": [],
   "source": [
    "cpw_sweep_opts = Dict(\n",
    "                fillet = '49.9um',\n",
    "                total_length = [\"3830um\",\"3900um\",\"3970um\"],\n",
    "                trace_width = \"11.7um\",\n",
    "                trace_gap = '5.1um')"
   ]
  },
  {
   "cell_type": "code",
   "execution_count": 4,
   "metadata": {},
   "outputs": [],
   "source": [
    "claw_sweep_opts = dict(\n",
    "    connection_pads=dict(\n",
    "        readout = dict(connector_location = '90', \n",
    "                 connector_type = '0', \n",
    "                 claw_length = [f\"{70+i*10}um\" for i in range(39)],\n",
    "                 ground_spacing = '4.1um', \n",
    "                 claw_gap = '5.1um', \n",
    "                 claw_width = '15um',\n",
    "                 claw_cpw_width = \"11.7um\",\n",
    "                 claw_cpw_length = '0um'\n",
    "                 ),\n",
    "    ),\n",
    "    cross_width = '30um', # does not matter\n",
    "    cross_length = '240um',  # does not matter\n",
    "    cross_gap = '30um',  # does not matter\n",
    ")"
   ]
  },
  {
   "cell_type": "code",
   "execution_count": 5,
   "metadata": {},
   "outputs": [],
   "source": [
    "cplr_sweep_opts = Dict(prime_width = \"11.7um\",\n",
    "            prime_gap = '5.1um',\n",
    "            second_width = \"11.7um\",\n",
    "            second_gap = '5.1um',\n",
    "            coupling_space = '7.9um',\n",
    "            coupling_length = '225um',\n",
    "            open_termination = False,\n",
    "            down_length = '50um')"
   ]
  },
  {
   "cell_type": "markdown",
   "metadata": {},
   "source": [
    "**Update the simulation bounds to the part that you want to run on this machine**"
   ]
  },
  {
   "cell_type": "code",
   "execution_count": 6,
   "metadata": {},
   "outputs": [],
   "source": [
    "sweep_opts = Dict(claw_opts = claw_sweep_opts, cpw_opts = cpw_sweep_opts, cplr_opts = cplr_sweep_opts)"
   ]
  },
  {
   "cell_type": "markdown",
   "metadata": {},
   "source": [
    "# UPDATE `comp_id`!!!"
   ]
  },
  {
   "cell_type": "code",
   "execution_count": 7,
   "metadata": {},
   "outputs": [],
   "source": [
    "comps_available = {\n",
    "    \"Sabrina\":0,\n",
    "    \"Glinda\":1,\n",
    "    \"Saruman\":2,\n",
    "    \"VM1\":3, #?\n",
    "    \"VM2\":4, #?\n",
    "}"
   ]
  },
  {
   "cell_type": "code",
   "execution_count": 8,
   "metadata": {},
   "outputs": [],
   "source": [
    "comp_id = \"Sabrina\"  # Replace with actual computer name"
   ]
  },
  {
   "cell_type": "code",
   "execution_count": 9,
   "metadata": {},
   "outputs": [],
   "source": [
    "N = len(comps_available)  # Number of computers\n",
    "sweep_opts_chunks = chunk_sweep_options(sweep_opts, N)"
   ]
  },
  {
   "cell_type": "code",
   "execution_count": 10,
   "metadata": {},
   "outputs": [
    {
     "data": {
      "text/plain": [
       "{'claw_opts': {'connection_pads': {'readout': {'connector_location': '90',\n",
       "    'connector_type': '0',\n",
       "    'claw_length': ['70um',\n",
       "     '80um',\n",
       "     '90um',\n",
       "     '100um',\n",
       "     '110um',\n",
       "     '120um',\n",
       "     '130um',\n",
       "     '140um'],\n",
       "    'ground_spacing': '4.1um',\n",
       "    'claw_gap': '5.1um',\n",
       "    'claw_width': '15um',\n",
       "    'claw_cpw_width': '11.7um',\n",
       "    'claw_cpw_length': '0um'}}},\n",
       " 'cpw_opts': {'fillet': '49.9um',\n",
       "  'total_length': ['3830um', '3900um', '3970um'],\n",
       "  'trace_width': '11.7um',\n",
       "  'trace_gap': '5.1um'},\n",
       " 'cplr_opts': {'prime_width': '11.7um',\n",
       "  'prime_gap': '5.1um',\n",
       "  'second_width': '11.7um',\n",
       "  'second_gap': '5.1um',\n",
       "  'coupling_space': '7.9um',\n",
       "  'coupling_length': '225um',\n",
       "  'open_termination': False,\n",
       "  'down_length': '50um'}}"
      ]
     },
     "execution_count": 10,
     "metadata": {},
     "output_type": "execute_result"
    }
   ],
   "source": [
    "sweep_opts_deployed = sweep_opts_chunks[comps_available[comp_id]]  # Get the i-th chunk\n",
    "sweep_opts_deployed"
   ]
  },
  {
   "cell_type": "markdown",
   "metadata": {},
   "source": [
    "**Creating the required projects**"
   ]
  },
  {
   "cell_type": "code",
   "execution_count": 11,
   "metadata": {},
   "outputs": [
    {
     "name": "stdout",
     "output_type": "stream",
     "text": [
      "UIDs have been written to \n",
      "d:\\andre\\paper_sweeps\\project_storage\\uids.csv\n"
     ]
    }
   ],
   "source": [
    "uids = []\n",
    "current_dir = os.getcwd()  # Current directory\n",
    "project_path = os.path.join(current_dir, 'project_storage')  #\n",
    "\n",
    "create_project_path(project_path)\n",
    "csv_path = os.path.join(project_path, 'uids.csv')\n",
    "\n",
    "for param in extract_QSweep_parameters(sweep_opts_deployed):\n",
    "    uid = '_'.join([param[\"cpw_opts\"][\"total_length\"], param[\"claw_opts\"][\"connection_pads\"][\"readout\"][\"claw_length\"]])\n",
    "    uids.append(f\"clt_sweep_{uid}\")\n",
    "\n",
    "write_uids_to_csv(uids, csv_path)\n",
    "print(f\"UIDs have been written to \\n{csv_path}\")"
   ]
  },
  {
   "cell_type": "markdown",
   "metadata": {},
   "source": [
    "Update `csv_path` in `create_new_project.py` with the path above ^"
   ]
  },
  {
   "cell_type": "markdown",
   "metadata": {},
   "source": [
    "# STOP AND RUN the `create_new_project.py` script within Ansys before proceeding"
   ]
  },
  {
   "cell_type": "markdown",
   "metadata": {},
   "source": [
    "If all the projects are now available. Render the design into them using the following two cells"
   ]
  },
  {
   "cell_type": "code",
   "execution_count": 14,
   "metadata": {},
   "outputs": [
    {
     "name": "stdout",
     "output_type": "stream",
     "text": [
      "Deleted: d:\\andre\\paper_sweeps\\project_storage\\clt_sweep_3830um_100um.aedt.lock\n",
      "Deleted: d:\\andre\\paper_sweeps\\project_storage\\clt_sweep_3830um_110um.aedt.lock\n",
      "Deleted: d:\\andre\\paper_sweeps\\project_storage\\clt_sweep_3830um_120um.aedt.lock\n",
      "Deleted: d:\\andre\\paper_sweeps\\project_storage\\clt_sweep_3830um_130um.aedt.lock\n",
      "Deleted: d:\\andre\\paper_sweeps\\project_storage\\clt_sweep_3830um_140um.aedt.lock\n",
      "Deleted: d:\\andre\\paper_sweeps\\project_storage\\clt_sweep_3830um_70um.aedt.lock\n",
      "Deleted: d:\\andre\\paper_sweeps\\project_storage\\clt_sweep_3830um_80um.aedt.lock\n",
      "Deleted: d:\\andre\\paper_sweeps\\project_storage\\clt_sweep_3830um_90um.aedt.lock\n",
      "Deleted: d:\\andre\\paper_sweeps\\project_storage\\clt_sweep_3900um_100um.aedt.lock\n",
      "Deleted: d:\\andre\\paper_sweeps\\project_storage\\clt_sweep_3900um_110um.aedt.lock\n",
      "Deleted: d:\\andre\\paper_sweeps\\project_storage\\clt_sweep_3900um_120um.aedt.lock\n",
      "Deleted: d:\\andre\\paper_sweeps\\project_storage\\clt_sweep_3900um_130um.aedt.lock\n",
      "Deleted: d:\\andre\\paper_sweeps\\project_storage\\clt_sweep_3900um_140um.aedt.lock\n",
      "Deleted: d:\\andre\\paper_sweeps\\project_storage\\clt_sweep_3900um_70um.aedt.lock\n",
      "Deleted: d:\\andre\\paper_sweeps\\project_storage\\clt_sweep_3900um_80um.aedt.lock\n",
      "Deleted: d:\\andre\\paper_sweeps\\project_storage\\clt_sweep_3900um_90um.aedt.lock\n",
      "Deleted: d:\\andre\\paper_sweeps\\project_storage\\clt_sweep_3970um_100um.aedt.lock\n",
      "Deleted: d:\\andre\\paper_sweeps\\project_storage\\clt_sweep_3970um_110um.aedt.lock\n",
      "Deleted: d:\\andre\\paper_sweeps\\project_storage\\clt_sweep_3970um_120um.aedt.lock\n",
      "Deleted: d:\\andre\\paper_sweeps\\project_storage\\clt_sweep_3970um_130um.aedt.lock\n",
      "Deleted: d:\\andre\\paper_sweeps\\project_storage\\clt_sweep_3970um_140um.aedt.lock\n",
      "Deleted: d:\\andre\\paper_sweeps\\project_storage\\clt_sweep_3970um_70um.aedt.lock\n",
      "Deleted: d:\\andre\\paper_sweeps\\project_storage\\clt_sweep_3970um_80um.aedt.lock\n",
      "Deleted: d:\\andre\\paper_sweeps\\project_storage\\clt_sweep_3970um_90um.aedt.lock\n"
     ]
    }
   ],
   "source": [
    "remove_lock_files(project_path)"
   ]
  },
  {
   "cell_type": "code",
   "execution_count": 15,
   "metadata": {},
   "outputs": [
    {
     "name": "stdout",
     "output_type": "stream",
     "text": [
      "==================================================\n",
      "Starting rendering...\n",
      "Setting project name\n"
     ]
    },
    {
     "name": "stderr",
     "output_type": "stream",
     "text": [
      "INFO 07:38PM [connect_project]: Connecting to Ansys Desktop API...\n",
      "INFO 07:38PM [load_ansys_project]: \tFile path to HFSS project found.\n",
      "INFO 07:38PM [load_ansys_project]: \tOpened Ansys App\n",
      "INFO 07:38PM [load_ansys_project]: \tOpened Ansys Desktop v2021.1.0\n",
      "INFO 07:38PM [load_ansys_project]: \tOpened Ansys Project\n",
      "\tFolder:    d:/andre/paper_sweeps/project_storage/\n",
      "\tProject:   clt_sweep_3830um_70um\n",
      "INFO 07:38PM [connect_design]: No active design found (or error getting active design).\n",
      "INFO 07:38PM [connect]: \t Connected to project \"clt_sweep_3830um_70um\". No design detected\n"
     ]
    },
    {
     "name": "stdout",
     "output_type": "stream",
     "text": [
      "d:\\andre\\paper_sweeps\\project_storage\n",
      "clt_sweep_3830um_70um\n"
     ]
    },
    {
     "name": "stderr",
     "output_type": "stream",
     "text": [
      "INFO 07:39PM [connect_design]: \tOpened active design\n",
      "\tDesign:    CavitySweep [Solution type: Eigenmode]\n",
      "WARNING 07:39PM [connect_setup]: \tNo design setup detected.\n",
      "WARNING 07:39PM [connect_setup]: \tCreating eigenmode default setup.\n",
      "INFO 07:39PM [get_setup]: \tOpened setup `Setup`  (<class 'pyEPR.ansys.HfssEMSetup'>)\n",
      "INFO 07:39PM [connect_design]: \tOpened active design\n",
      "\tDesign:    CavitySweep_hfss [Solution type: Eigenmode]\n",
      "WARNING 07:39PM [connect_setup]: \tNo design setup detected.\n",
      "WARNING 07:39PM [connect_setup]: \tCreating eigenmode default setup.\n",
      "INFO 07:39PM [get_setup]: \tOpened setup `Setup`  (<class 'pyEPR.ansys.HfssEMSetup'>)\n"
     ]
    },
    {
     "name": "stdout",
     "output_type": "stream",
     "text": [
      "creaing porst\n",
      "Sim rendered into HFSS!\n"
     ]
    },
    {
     "name": "stderr",
     "output_type": "stream",
     "text": [
      "INFO 07:39PM [connect_project]: Connecting to Ansys Desktop API...\n",
      "INFO 07:39PM [load_ansys_project]: \tFile path to HFSS project found.\n",
      "INFO 07:39PM [load_ansys_project]: \tOpened Ansys App\n",
      "INFO 07:39PM [load_ansys_project]: \tOpened Ansys Desktop v2021.1.0\n"
     ]
    },
    {
     "name": "stdout",
     "output_type": "stream",
     "text": [
      "Rendering is done!\n",
      "==================================================\n",
      "==================================================\n",
      "Starting rendering...\n",
      "Setting project name\n",
      "d:\\andre\\paper_sweeps\\project_storage\n",
      "clt_sweep_3900um_70um\n"
     ]
    },
    {
     "name": "stderr",
     "output_type": "stream",
     "text": [
      "INFO 07:39PM [load_ansys_project]: \tOpened Ansys Project\n",
      "\tFolder:    d:/andre/paper_sweeps/project_storage/\n",
      "\tProject:   clt_sweep_3900um_70um\n",
      "INFO 07:39PM [connect_design]: No active design found (or error getting active design).\n",
      "INFO 07:39PM [connect]: \t Connected to project \"clt_sweep_3900um_70um\". No design detected\n",
      "INFO 07:39PM [connect_design]: \tOpened active design\n",
      "\tDesign:    CavitySweep [Solution type: Eigenmode]\n",
      "WARNING 07:39PM [connect_setup]: \tNo design setup detected.\n",
      "WARNING 07:39PM [connect_setup]: \tCreating eigenmode default setup.\n",
      "INFO 07:39PM [get_setup]: \tOpened setup `Setup`  (<class 'pyEPR.ansys.HfssEMSetup'>)\n",
      "INFO 07:39PM [connect_design]: \tOpened active design\n",
      "\tDesign:    CavitySweep_hfss [Solution type: Eigenmode]\n",
      "WARNING 07:39PM [connect_setup]: \tNo design setup detected.\n",
      "WARNING 07:39PM [connect_setup]: \tCreating eigenmode default setup.\n",
      "INFO 07:39PM [get_setup]: \tOpened setup `Setup`  (<class 'pyEPR.ansys.HfssEMSetup'>)\n"
     ]
    },
    {
     "name": "stdout",
     "output_type": "stream",
     "text": [
      "creaing porst\n",
      "Sim rendered into HFSS!\n"
     ]
    },
    {
     "name": "stderr",
     "output_type": "stream",
     "text": [
      "INFO 07:39PM [connect_project]: Connecting to Ansys Desktop API...\n",
      "INFO 07:39PM [load_ansys_project]: \tFile path to HFSS project found.\n",
      "INFO 07:39PM [load_ansys_project]: \tOpened Ansys App\n",
      "INFO 07:39PM [load_ansys_project]: \tOpened Ansys Desktop v2021.1.0\n"
     ]
    },
    {
     "name": "stdout",
     "output_type": "stream",
     "text": [
      "Rendering is done!\n",
      "==================================================\n",
      "==================================================\n",
      "Starting rendering...\n",
      "Setting project name\n",
      "d:\\andre\\paper_sweeps\\project_storage\n",
      "clt_sweep_3970um_70um\n"
     ]
    },
    {
     "name": "stderr",
     "output_type": "stream",
     "text": [
      "INFO 07:39PM [load_ansys_project]: \tOpened Ansys Project\n",
      "\tFolder:    d:/andre/paper_sweeps/project_storage/\n",
      "\tProject:   clt_sweep_3970um_70um\n",
      "INFO 07:39PM [connect_design]: No active design found (or error getting active design).\n",
      "INFO 07:39PM [connect]: \t Connected to project \"clt_sweep_3970um_70um\". No design detected\n",
      "INFO 07:39PM [__del__]: Disconnected from Ansys HFSS\n",
      "INFO 07:39PM [__del__]: Disconnected from Ansys HFSS\n",
      "INFO 07:39PM [connect_design]: \tOpened active design\n",
      "\tDesign:    CavitySweep [Solution type: Eigenmode]\n",
      "WARNING 07:39PM [connect_setup]: \tNo design setup detected.\n",
      "WARNING 07:39PM [connect_setup]: \tCreating eigenmode default setup.\n",
      "INFO 07:39PM [get_setup]: \tOpened setup `Setup`  (<class 'pyEPR.ansys.HfssEMSetup'>)\n",
      "INFO 07:39PM [connect_design]: \tOpened active design\n",
      "\tDesign:    CavitySweep_hfss [Solution type: Eigenmode]\n",
      "WARNING 07:39PM [connect_setup]: \tNo design setup detected.\n",
      "WARNING 07:39PM [connect_setup]: \tCreating eigenmode default setup.\n",
      "INFO 07:39PM [get_setup]: \tOpened setup `Setup`  (<class 'pyEPR.ansys.HfssEMSetup'>)\n"
     ]
    },
    {
     "name": "stdout",
     "output_type": "stream",
     "text": [
      "creaing porst\n",
      "Sim rendered into HFSS!\n"
     ]
    },
    {
     "name": "stderr",
     "output_type": "stream",
     "text": [
      "INFO 07:39PM [connect_project]: Connecting to Ansys Desktop API...\n",
      "INFO 07:39PM [load_ansys_project]: \tFile path to HFSS project found.\n",
      "INFO 07:39PM [load_ansys_project]: \tOpened Ansys App\n",
      "INFO 07:39PM [load_ansys_project]: \tOpened Ansys Desktop v2021.1.0\n"
     ]
    },
    {
     "name": "stdout",
     "output_type": "stream",
     "text": [
      "Rendering is done!\n",
      "==================================================\n",
      "==================================================\n",
      "Starting rendering...\n",
      "Setting project name\n",
      "d:\\andre\\paper_sweeps\\project_storage\n",
      "clt_sweep_3830um_80um\n"
     ]
    },
    {
     "name": "stderr",
     "output_type": "stream",
     "text": [
      "INFO 07:39PM [load_ansys_project]: \tOpened Ansys Project\n",
      "\tFolder:    d:/andre/paper_sweeps/project_storage/\n",
      "\tProject:   clt_sweep_3830um_80um\n",
      "INFO 07:39PM [connect_design]: No active design found (or error getting active design).\n",
      "INFO 07:39PM [connect]: \t Connected to project \"clt_sweep_3830um_80um\". No design detected\n",
      "INFO 07:39PM [connect_design]: \tOpened active design\n",
      "\tDesign:    CavitySweep [Solution type: Eigenmode]\n",
      "WARNING 07:39PM [connect_setup]: \tNo design setup detected.\n",
      "WARNING 07:39PM [connect_setup]: \tCreating eigenmode default setup.\n",
      "INFO 07:39PM [get_setup]: \tOpened setup `Setup`  (<class 'pyEPR.ansys.HfssEMSetup'>)\n",
      "INFO 07:39PM [connect_design]: \tOpened active design\n",
      "\tDesign:    CavitySweep_hfss [Solution type: Eigenmode]\n",
      "WARNING 07:39PM [connect_setup]: \tNo design setup detected.\n",
      "WARNING 07:39PM [connect_setup]: \tCreating eigenmode default setup.\n",
      "INFO 07:39PM [get_setup]: \tOpened setup `Setup`  (<class 'pyEPR.ansys.HfssEMSetup'>)\n"
     ]
    },
    {
     "name": "stdout",
     "output_type": "stream",
     "text": [
      "creaing porst\n",
      "Sim rendered into HFSS!\n"
     ]
    },
    {
     "name": "stderr",
     "output_type": "stream",
     "text": [
      "INFO 07:39PM [connect_project]: Connecting to Ansys Desktop API...\n",
      "INFO 07:39PM [load_ansys_project]: \tFile path to HFSS project found.\n",
      "INFO 07:39PM [load_ansys_project]: \tOpened Ansys App\n",
      "INFO 07:39PM [load_ansys_project]: \tOpened Ansys Desktop v2021.1.0\n"
     ]
    },
    {
     "name": "stdout",
     "output_type": "stream",
     "text": [
      "Rendering is done!\n",
      "==================================================\n",
      "==================================================\n",
      "Starting rendering...\n",
      "Setting project name\n",
      "d:\\andre\\paper_sweeps\\project_storage\n",
      "clt_sweep_3900um_80um\n"
     ]
    },
    {
     "name": "stderr",
     "output_type": "stream",
     "text": [
      "INFO 07:39PM [load_ansys_project]: \tOpened Ansys Project\n",
      "\tFolder:    d:/andre/paper_sweeps/project_storage/\n",
      "\tProject:   clt_sweep_3900um_80um\n",
      "INFO 07:39PM [connect_design]: No active design found (or error getting active design).\n",
      "INFO 07:39PM [connect]: \t Connected to project \"clt_sweep_3900um_80um\". No design detected\n",
      "INFO 07:39PM [connect_design]: \tOpened active design\n",
      "\tDesign:    CavitySweep [Solution type: Eigenmode]\n",
      "WARNING 07:39PM [connect_setup]: \tNo design setup detected.\n",
      "WARNING 07:39PM [connect_setup]: \tCreating eigenmode default setup.\n",
      "INFO 07:39PM [get_setup]: \tOpened setup `Setup`  (<class 'pyEPR.ansys.HfssEMSetup'>)\n",
      "INFO 07:39PM [connect_design]: \tOpened active design\n",
      "\tDesign:    CavitySweep_hfss [Solution type: Eigenmode]\n",
      "WARNING 07:39PM [connect_setup]: \tNo design setup detected.\n",
      "WARNING 07:39PM [connect_setup]: \tCreating eigenmode default setup.\n",
      "INFO 07:39PM [get_setup]: \tOpened setup `Setup`  (<class 'pyEPR.ansys.HfssEMSetup'>)\n"
     ]
    },
    {
     "name": "stdout",
     "output_type": "stream",
     "text": [
      "creaing porst\n",
      "Sim rendered into HFSS!\n"
     ]
    },
    {
     "name": "stderr",
     "output_type": "stream",
     "text": [
      "INFO 07:39PM [connect_project]: Connecting to Ansys Desktop API...\n",
      "INFO 07:39PM [load_ansys_project]: \tFile path to HFSS project found.\n",
      "INFO 07:39PM [load_ansys_project]: \tOpened Ansys App\n",
      "INFO 07:39PM [load_ansys_project]: \tOpened Ansys Desktop v2021.1.0\n"
     ]
    },
    {
     "name": "stdout",
     "output_type": "stream",
     "text": [
      "Rendering is done!\n",
      "==================================================\n",
      "==================================================\n",
      "Starting rendering...\n",
      "Setting project name\n",
      "d:\\andre\\paper_sweeps\\project_storage\n",
      "clt_sweep_3970um_80um\n"
     ]
    },
    {
     "name": "stderr",
     "output_type": "stream",
     "text": [
      "INFO 07:39PM [load_ansys_project]: \tOpened Ansys Project\n",
      "\tFolder:    d:/andre/paper_sweeps/project_storage/\n",
      "\tProject:   clt_sweep_3970um_80um\n",
      "INFO 07:39PM [connect_design]: No active design found (or error getting active design).\n",
      "INFO 07:39PM [connect]: \t Connected to project \"clt_sweep_3970um_80um\". No design detected\n",
      "INFO 07:39PM [connect_design]: \tOpened active design\n",
      "\tDesign:    CavitySweep [Solution type: Eigenmode]\n",
      "WARNING 07:39PM [connect_setup]: \tNo design setup detected.\n",
      "WARNING 07:39PM [connect_setup]: \tCreating eigenmode default setup.\n",
      "INFO 07:39PM [get_setup]: \tOpened setup `Setup`  (<class 'pyEPR.ansys.HfssEMSetup'>)\n",
      "INFO 07:39PM [connect_design]: \tOpened active design\n",
      "\tDesign:    CavitySweep_hfss [Solution type: Eigenmode]\n",
      "WARNING 07:39PM [connect_setup]: \tNo design setup detected.\n",
      "WARNING 07:39PM [connect_setup]: \tCreating eigenmode default setup.\n",
      "INFO 07:39PM [get_setup]: \tOpened setup `Setup`  (<class 'pyEPR.ansys.HfssEMSetup'>)\n"
     ]
    },
    {
     "name": "stdout",
     "output_type": "stream",
     "text": [
      "creaing porst\n",
      "Sim rendered into HFSS!\n"
     ]
    },
    {
     "name": "stderr",
     "output_type": "stream",
     "text": [
      "INFO 07:39PM [connect_project]: Connecting to Ansys Desktop API...\n",
      "INFO 07:39PM [load_ansys_project]: \tFile path to HFSS project found.\n",
      "INFO 07:39PM [load_ansys_project]: \tOpened Ansys App\n",
      "INFO 07:39PM [load_ansys_project]: \tOpened Ansys Desktop v2021.1.0\n"
     ]
    },
    {
     "name": "stdout",
     "output_type": "stream",
     "text": [
      "Rendering is done!\n",
      "==================================================\n",
      "==================================================\n",
      "Starting rendering...\n",
      "Setting project name\n",
      "d:\\andre\\paper_sweeps\\project_storage\n",
      "clt_sweep_3830um_90um\n"
     ]
    },
    {
     "name": "stderr",
     "output_type": "stream",
     "text": [
      "INFO 07:39PM [load_ansys_project]: \tOpened Ansys Project\n",
      "\tFolder:    d:/andre/paper_sweeps/project_storage/\n",
      "\tProject:   clt_sweep_3830um_90um\n",
      "INFO 07:39PM [connect_design]: No active design found (or error getting active design).\n",
      "INFO 07:39PM [connect]: \t Connected to project \"clt_sweep_3830um_90um\". No design detected\n",
      "INFO 07:40PM [connect_design]: \tOpened active design\n",
      "\tDesign:    CavitySweep [Solution type: Eigenmode]\n",
      "WARNING 07:40PM [connect_setup]: \tNo design setup detected.\n",
      "WARNING 07:40PM [connect_setup]: \tCreating eigenmode default setup.\n",
      "INFO 07:40PM [get_setup]: \tOpened setup `Setup`  (<class 'pyEPR.ansys.HfssEMSetup'>)\n",
      "INFO 07:40PM [connect_design]: \tOpened active design\n",
      "\tDesign:    CavitySweep_hfss [Solution type: Eigenmode]\n",
      "WARNING 07:40PM [connect_setup]: \tNo design setup detected.\n",
      "WARNING 07:40PM [connect_setup]: \tCreating eigenmode default setup.\n",
      "INFO 07:40PM [get_setup]: \tOpened setup `Setup`  (<class 'pyEPR.ansys.HfssEMSetup'>)\n"
     ]
    },
    {
     "name": "stdout",
     "output_type": "stream",
     "text": [
      "creaing porst\n",
      "Sim rendered into HFSS!\n"
     ]
    },
    {
     "name": "stderr",
     "output_type": "stream",
     "text": [
      "INFO 07:40PM [__del__]: Disconnected from Ansys HFSS\n",
      "INFO 07:40PM [__del__]: Disconnected from Ansys HFSS\n",
      "INFO 07:40PM [__del__]: Disconnected from Ansys HFSS\n",
      "INFO 07:40PM [connect_project]: Connecting to Ansys Desktop API...\n",
      "INFO 07:40PM [load_ansys_project]: \tFile path to HFSS project found.\n",
      "INFO 07:40PM [load_ansys_project]: \tOpened Ansys App\n",
      "INFO 07:40PM [load_ansys_project]: \tOpened Ansys Desktop v2021.1.0\n"
     ]
    },
    {
     "name": "stdout",
     "output_type": "stream",
     "text": [
      "Rendering is done!\n",
      "==================================================\n",
      "==================================================\n",
      "Starting rendering...\n",
      "Setting project name\n",
      "d:\\andre\\paper_sweeps\\project_storage\n",
      "clt_sweep_3900um_90um\n"
     ]
    },
    {
     "name": "stderr",
     "output_type": "stream",
     "text": [
      "INFO 07:40PM [load_ansys_project]: \tOpened Ansys Project\n",
      "\tFolder:    d:/andre/paper_sweeps/project_storage/\n",
      "\tProject:   clt_sweep_3900um_90um\n",
      "INFO 07:40PM [connect_design]: No active design found (or error getting active design).\n",
      "INFO 07:40PM [connect]: \t Connected to project \"clt_sweep_3900um_90um\". No design detected\n",
      "INFO 07:40PM [connect_design]: \tOpened active design\n",
      "\tDesign:    CavitySweep [Solution type: Eigenmode]\n",
      "WARNING 07:40PM [connect_setup]: \tNo design setup detected.\n",
      "WARNING 07:40PM [connect_setup]: \tCreating eigenmode default setup.\n",
      "INFO 07:40PM [get_setup]: \tOpened setup `Setup`  (<class 'pyEPR.ansys.HfssEMSetup'>)\n",
      "INFO 07:40PM [connect_design]: \tOpened active design\n",
      "\tDesign:    CavitySweep_hfss [Solution type: Eigenmode]\n",
      "WARNING 07:40PM [connect_setup]: \tNo design setup detected.\n",
      "WARNING 07:40PM [connect_setup]: \tCreating eigenmode default setup.\n",
      "INFO 07:40PM [get_setup]: \tOpened setup `Setup`  (<class 'pyEPR.ansys.HfssEMSetup'>)\n"
     ]
    },
    {
     "name": "stdout",
     "output_type": "stream",
     "text": [
      "creaing porst\n",
      "Sim rendered into HFSS!\n"
     ]
    },
    {
     "name": "stderr",
     "output_type": "stream",
     "text": [
      "INFO 07:40PM [connect_project]: Connecting to Ansys Desktop API...\n",
      "INFO 07:40PM [load_ansys_project]: \tFile path to HFSS project found.\n",
      "INFO 07:40PM [load_ansys_project]: \tOpened Ansys App\n",
      "INFO 07:40PM [load_ansys_project]: \tOpened Ansys Desktop v2021.1.0\n"
     ]
    },
    {
     "name": "stdout",
     "output_type": "stream",
     "text": [
      "Rendering is done!\n",
      "==================================================\n",
      "==================================================\n",
      "Starting rendering...\n",
      "Setting project name\n",
      "d:\\andre\\paper_sweeps\\project_storage\n",
      "clt_sweep_3970um_90um\n"
     ]
    },
    {
     "name": "stderr",
     "output_type": "stream",
     "text": [
      "INFO 07:40PM [load_ansys_project]: \tOpened Ansys Project\n",
      "\tFolder:    d:/andre/paper_sweeps/project_storage/\n",
      "\tProject:   clt_sweep_3970um_90um\n",
      "INFO 07:40PM [connect_design]: No active design found (or error getting active design).\n",
      "INFO 07:40PM [connect]: \t Connected to project \"clt_sweep_3970um_90um\". No design detected\n",
      "INFO 07:40PM [connect_design]: \tOpened active design\n",
      "\tDesign:    CavitySweep [Solution type: Eigenmode]\n",
      "WARNING 07:40PM [connect_setup]: \tNo design setup detected.\n",
      "WARNING 07:40PM [connect_setup]: \tCreating eigenmode default setup.\n",
      "INFO 07:40PM [get_setup]: \tOpened setup `Setup`  (<class 'pyEPR.ansys.HfssEMSetup'>)\n",
      "INFO 07:40PM [connect_design]: \tOpened active design\n",
      "\tDesign:    CavitySweep_hfss [Solution type: Eigenmode]\n",
      "WARNING 07:40PM [connect_setup]: \tNo design setup detected.\n",
      "WARNING 07:40PM [connect_setup]: \tCreating eigenmode default setup.\n",
      "INFO 07:40PM [get_setup]: \tOpened setup `Setup`  (<class 'pyEPR.ansys.HfssEMSetup'>)\n"
     ]
    },
    {
     "name": "stdout",
     "output_type": "stream",
     "text": [
      "creaing porst\n",
      "Sim rendered into HFSS!\n"
     ]
    },
    {
     "name": "stderr",
     "output_type": "stream",
     "text": [
      "INFO 07:40PM [connect_project]: Connecting to Ansys Desktop API...\n",
      "INFO 07:40PM [load_ansys_project]: \tFile path to HFSS project found.\n",
      "INFO 07:40PM [load_ansys_project]: \tOpened Ansys App\n",
      "INFO 07:40PM [load_ansys_project]: \tOpened Ansys Desktop v2021.1.0\n"
     ]
    },
    {
     "name": "stdout",
     "output_type": "stream",
     "text": [
      "Rendering is done!\n",
      "==================================================\n",
      "==================================================\n",
      "Starting rendering...\n",
      "Setting project name\n",
      "d:\\andre\\paper_sweeps\\project_storage\n",
      "clt_sweep_3830um_100um\n"
     ]
    },
    {
     "name": "stderr",
     "output_type": "stream",
     "text": [
      "INFO 07:40PM [load_ansys_project]: \tOpened Ansys Project\n",
      "\tFolder:    d:/andre/paper_sweeps/project_storage/\n",
      "\tProject:   clt_sweep_3830um_100um\n",
      "INFO 07:40PM [connect_design]: No active design found (or error getting active design).\n",
      "INFO 07:40PM [connect]: \t Connected to project \"clt_sweep_3830um_100um\". No design detected\n",
      "INFO 07:40PM [connect_design]: \tOpened active design\n",
      "\tDesign:    CavitySweep [Solution type: Eigenmode]\n",
      "WARNING 07:40PM [connect_setup]: \tNo design setup detected.\n",
      "WARNING 07:40PM [connect_setup]: \tCreating eigenmode default setup.\n",
      "INFO 07:40PM [get_setup]: \tOpened setup `Setup`  (<class 'pyEPR.ansys.HfssEMSetup'>)\n",
      "INFO 07:40PM [connect_design]: \tOpened active design\n",
      "\tDesign:    CavitySweep_hfss [Solution type: Eigenmode]\n",
      "WARNING 07:40PM [connect_setup]: \tNo design setup detected.\n",
      "WARNING 07:40PM [connect_setup]: \tCreating eigenmode default setup.\n",
      "INFO 07:40PM [get_setup]: \tOpened setup `Setup`  (<class 'pyEPR.ansys.HfssEMSetup'>)\n"
     ]
    },
    {
     "name": "stdout",
     "output_type": "stream",
     "text": [
      "creaing porst\n",
      "Sim rendered into HFSS!\n"
     ]
    },
    {
     "name": "stderr",
     "output_type": "stream",
     "text": [
      "INFO 07:40PM [connect_project]: Connecting to Ansys Desktop API...\n",
      "INFO 07:40PM [load_ansys_project]: \tFile path to HFSS project found.\n",
      "INFO 07:40PM [load_ansys_project]: \tOpened Ansys App\n",
      "INFO 07:40PM [load_ansys_project]: \tOpened Ansys Desktop v2021.1.0\n"
     ]
    },
    {
     "name": "stdout",
     "output_type": "stream",
     "text": [
      "Rendering is done!\n",
      "==================================================\n",
      "==================================================\n",
      "Starting rendering...\n",
      "Setting project name\n",
      "d:\\andre\\paper_sweeps\\project_storage\n",
      "clt_sweep_3900um_100um\n"
     ]
    },
    {
     "name": "stderr",
     "output_type": "stream",
     "text": [
      "INFO 07:40PM [load_ansys_project]: \tOpened Ansys Project\n",
      "\tFolder:    d:/andre/paper_sweeps/project_storage/\n",
      "\tProject:   clt_sweep_3900um_100um\n",
      "INFO 07:40PM [connect_design]: No active design found (or error getting active design).\n",
      "INFO 07:40PM [connect]: \t Connected to project \"clt_sweep_3900um_100um\". No design detected\n",
      "INFO 07:40PM [connect_design]: \tOpened active design\n",
      "\tDesign:    CavitySweep [Solution type: Eigenmode]\n",
      "WARNING 07:40PM [connect_setup]: \tNo design setup detected.\n",
      "WARNING 07:40PM [connect_setup]: \tCreating eigenmode default setup.\n",
      "INFO 07:40PM [get_setup]: \tOpened setup `Setup`  (<class 'pyEPR.ansys.HfssEMSetup'>)\n",
      "INFO 07:40PM [connect_design]: \tOpened active design\n",
      "\tDesign:    CavitySweep_hfss [Solution type: Eigenmode]\n",
      "WARNING 07:40PM [connect_setup]: \tNo design setup detected.\n",
      "WARNING 07:40PM [connect_setup]: \tCreating eigenmode default setup.\n",
      "INFO 07:40PM [get_setup]: \tOpened setup `Setup`  (<class 'pyEPR.ansys.HfssEMSetup'>)\n"
     ]
    },
    {
     "name": "stdout",
     "output_type": "stream",
     "text": [
      "creaing porst\n",
      "Sim rendered into HFSS!\n"
     ]
    },
    {
     "name": "stderr",
     "output_type": "stream",
     "text": [
      "INFO 07:40PM [connect_project]: Connecting to Ansys Desktop API...\n",
      "INFO 07:40PM [load_ansys_project]: \tFile path to HFSS project found.\n",
      "INFO 07:40PM [load_ansys_project]: \tOpened Ansys App\n",
      "INFO 07:40PM [load_ansys_project]: \tOpened Ansys Desktop v2021.1.0\n"
     ]
    },
    {
     "name": "stdout",
     "output_type": "stream",
     "text": [
      "Rendering is done!\n",
      "==================================================\n",
      "==================================================\n",
      "Starting rendering...\n",
      "Setting project name\n",
      "d:\\andre\\paper_sweeps\\project_storage\n",
      "clt_sweep_3970um_100um\n"
     ]
    },
    {
     "name": "stderr",
     "output_type": "stream",
     "text": [
      "INFO 07:40PM [load_ansys_project]: \tOpened Ansys Project\n",
      "\tFolder:    d:/andre/paper_sweeps/project_storage/\n",
      "\tProject:   clt_sweep_3970um_100um\n",
      "INFO 07:40PM [connect_design]: No active design found (or error getting active design).\n",
      "INFO 07:40PM [connect]: \t Connected to project \"clt_sweep_3970um_100um\". No design detected\n",
      "INFO 07:41PM [connect_design]: \tOpened active design\n",
      "\tDesign:    CavitySweep [Solution type: Eigenmode]\n",
      "WARNING 07:41PM [connect_setup]: \tNo design setup detected.\n",
      "WARNING 07:41PM [connect_setup]: \tCreating eigenmode default setup.\n",
      "INFO 07:41PM [get_setup]: \tOpened setup `Setup`  (<class 'pyEPR.ansys.HfssEMSetup'>)\n",
      "INFO 07:41PM [connect_design]: \tOpened active design\n",
      "\tDesign:    CavitySweep_hfss [Solution type: Eigenmode]\n",
      "WARNING 07:41PM [connect_setup]: \tNo design setup detected.\n",
      "WARNING 07:41PM [connect_setup]: \tCreating eigenmode default setup.\n",
      "INFO 07:41PM [get_setup]: \tOpened setup `Setup`  (<class 'pyEPR.ansys.HfssEMSetup'>)\n"
     ]
    },
    {
     "name": "stdout",
     "output_type": "stream",
     "text": [
      "creaing porst\n"
     ]
    },
    {
     "name": "stderr",
     "output_type": "stream",
     "text": [
      "INFO 07:41PM [__del__]: Disconnected from Ansys HFSS\n",
      "INFO 07:41PM [__del__]: Disconnected from Ansys HFSS\n",
      "INFO 07:41PM [__del__]: Disconnected from Ansys HFSS\n",
      "INFO 07:41PM [__del__]: Disconnected from Ansys HFSS\n"
     ]
    },
    {
     "name": "stdout",
     "output_type": "stream",
     "text": [
      "Sim rendered into HFSS!\n"
     ]
    },
    {
     "name": "stderr",
     "output_type": "stream",
     "text": [
      "INFO 07:41PM [connect_project]: Connecting to Ansys Desktop API...\n",
      "INFO 07:41PM [load_ansys_project]: \tFile path to HFSS project found.\n",
      "INFO 07:41PM [load_ansys_project]: \tOpened Ansys App\n",
      "INFO 07:41PM [load_ansys_project]: \tOpened Ansys Desktop v2021.1.0\n"
     ]
    },
    {
     "name": "stdout",
     "output_type": "stream",
     "text": [
      "Rendering is done!\n",
      "==================================================\n",
      "==================================================\n",
      "Starting rendering...\n",
      "Setting project name\n",
      "d:\\andre\\paper_sweeps\\project_storage\n",
      "clt_sweep_3830um_110um\n"
     ]
    },
    {
     "name": "stderr",
     "output_type": "stream",
     "text": [
      "INFO 07:41PM [load_ansys_project]: \tOpened Ansys Project\n",
      "\tFolder:    d:/andre/paper_sweeps/project_storage/\n",
      "\tProject:   clt_sweep_3830um_110um\n",
      "INFO 07:41PM [connect_design]: No active design found (or error getting active design).\n",
      "INFO 07:41PM [connect]: \t Connected to project \"clt_sweep_3830um_110um\". No design detected\n",
      "INFO 07:41PM [connect_design]: \tOpened active design\n",
      "\tDesign:    CavitySweep [Solution type: Eigenmode]\n",
      "WARNING 07:41PM [connect_setup]: \tNo design setup detected.\n",
      "WARNING 07:41PM [connect_setup]: \tCreating eigenmode default setup.\n",
      "INFO 07:41PM [get_setup]: \tOpened setup `Setup`  (<class 'pyEPR.ansys.HfssEMSetup'>)\n",
      "INFO 07:41PM [connect_design]: \tOpened active design\n",
      "\tDesign:    CavitySweep_hfss [Solution type: Eigenmode]\n",
      "WARNING 07:41PM [connect_setup]: \tNo design setup detected.\n",
      "WARNING 07:41PM [connect_setup]: \tCreating eigenmode default setup.\n",
      "INFO 07:41PM [get_setup]: \tOpened setup `Setup`  (<class 'pyEPR.ansys.HfssEMSetup'>)\n"
     ]
    },
    {
     "name": "stdout",
     "output_type": "stream",
     "text": [
      "creaing porst\n",
      "Sim rendered into HFSS!\n"
     ]
    },
    {
     "name": "stderr",
     "output_type": "stream",
     "text": [
      "INFO 07:41PM [connect_project]: Connecting to Ansys Desktop API...\n",
      "INFO 07:41PM [load_ansys_project]: \tFile path to HFSS project found.\n",
      "INFO 07:41PM [load_ansys_project]: \tOpened Ansys App\n",
      "INFO 07:41PM [load_ansys_project]: \tOpened Ansys Desktop v2021.1.0\n"
     ]
    },
    {
     "name": "stdout",
     "output_type": "stream",
     "text": [
      "Rendering is done!\n",
      "==================================================\n",
      "==================================================\n",
      "Starting rendering...\n",
      "Setting project name\n",
      "d:\\andre\\paper_sweeps\\project_storage\n",
      "clt_sweep_3900um_110um\n"
     ]
    },
    {
     "name": "stderr",
     "output_type": "stream",
     "text": [
      "INFO 07:41PM [load_ansys_project]: \tOpened Ansys Project\n",
      "\tFolder:    d:/andre/paper_sweeps/project_storage/\n",
      "\tProject:   clt_sweep_3900um_110um\n",
      "INFO 07:41PM [connect_design]: No active design found (or error getting active design).\n",
      "INFO 07:41PM [connect]: \t Connected to project \"clt_sweep_3900um_110um\". No design detected\n",
      "INFO 07:41PM [connect_design]: \tOpened active design\n",
      "\tDesign:    CavitySweep [Solution type: Eigenmode]\n",
      "WARNING 07:41PM [connect_setup]: \tNo design setup detected.\n",
      "WARNING 07:41PM [connect_setup]: \tCreating eigenmode default setup.\n",
      "INFO 07:41PM [get_setup]: \tOpened setup `Setup`  (<class 'pyEPR.ansys.HfssEMSetup'>)\n",
      "INFO 07:41PM [connect_design]: \tOpened active design\n",
      "\tDesign:    CavitySweep_hfss [Solution type: Eigenmode]\n",
      "WARNING 07:41PM [connect_setup]: \tNo design setup detected.\n",
      "WARNING 07:41PM [connect_setup]: \tCreating eigenmode default setup.\n",
      "INFO 07:41PM [get_setup]: \tOpened setup `Setup`  (<class 'pyEPR.ansys.HfssEMSetup'>)\n"
     ]
    },
    {
     "name": "stdout",
     "output_type": "stream",
     "text": [
      "creaing porst\n",
      "Sim rendered into HFSS!\n"
     ]
    },
    {
     "name": "stderr",
     "output_type": "stream",
     "text": [
      "INFO 07:41PM [connect_project]: Connecting to Ansys Desktop API...\n",
      "INFO 07:41PM [load_ansys_project]: \tFile path to HFSS project found.\n",
      "INFO 07:41PM [load_ansys_project]: \tOpened Ansys App\n",
      "INFO 07:41PM [load_ansys_project]: \tOpened Ansys Desktop v2021.1.0\n"
     ]
    },
    {
     "name": "stdout",
     "output_type": "stream",
     "text": [
      "Rendering is done!\n",
      "==================================================\n",
      "==================================================\n",
      "Starting rendering...\n",
      "Setting project name\n",
      "d:\\andre\\paper_sweeps\\project_storage\n",
      "clt_sweep_3970um_110um\n"
     ]
    },
    {
     "name": "stderr",
     "output_type": "stream",
     "text": [
      "INFO 07:41PM [load_ansys_project]: \tOpened Ansys Project\n",
      "\tFolder:    d:/andre/paper_sweeps/project_storage/\n",
      "\tProject:   clt_sweep_3970um_110um\n",
      "INFO 07:41PM [connect_design]: No active design found (or error getting active design).\n",
      "INFO 07:41PM [connect]: \t Connected to project \"clt_sweep_3970um_110um\". No design detected\n",
      "INFO 07:41PM [connect_design]: \tOpened active design\n",
      "\tDesign:    CavitySweep [Solution type: Eigenmode]\n",
      "WARNING 07:41PM [connect_setup]: \tNo design setup detected.\n",
      "WARNING 07:41PM [connect_setup]: \tCreating eigenmode default setup.\n",
      "INFO 07:41PM [get_setup]: \tOpened setup `Setup`  (<class 'pyEPR.ansys.HfssEMSetup'>)\n",
      "INFO 07:41PM [connect_design]: \tOpened active design\n",
      "\tDesign:    CavitySweep_hfss [Solution type: Eigenmode]\n",
      "WARNING 07:41PM [connect_setup]: \tNo design setup detected.\n",
      "WARNING 07:41PM [connect_setup]: \tCreating eigenmode default setup.\n",
      "INFO 07:41PM [get_setup]: \tOpened setup `Setup`  (<class 'pyEPR.ansys.HfssEMSetup'>)\n"
     ]
    },
    {
     "name": "stdout",
     "output_type": "stream",
     "text": [
      "creaing porst\n",
      "Sim rendered into HFSS!\n"
     ]
    },
    {
     "name": "stderr",
     "output_type": "stream",
     "text": [
      "INFO 07:41PM [connect_project]: Connecting to Ansys Desktop API...\n",
      "INFO 07:41PM [load_ansys_project]: \tFile path to HFSS project found.\n",
      "INFO 07:41PM [load_ansys_project]: \tOpened Ansys App\n",
      "INFO 07:41PM [load_ansys_project]: \tOpened Ansys Desktop v2021.1.0\n"
     ]
    },
    {
     "name": "stdout",
     "output_type": "stream",
     "text": [
      "Rendering is done!\n",
      "==================================================\n",
      "==================================================\n",
      "Starting rendering...\n",
      "Setting project name\n",
      "d:\\andre\\paper_sweeps\\project_storage\n",
      "clt_sweep_3830um_120um\n"
     ]
    },
    {
     "name": "stderr",
     "output_type": "stream",
     "text": [
      "INFO 07:41PM [load_ansys_project]: \tOpened Ansys Project\n",
      "\tFolder:    d:/andre/paper_sweeps/project_storage/\n",
      "\tProject:   clt_sweep_3830um_120um\n",
      "INFO 07:41PM [connect_design]: No active design found (or error getting active design).\n",
      "INFO 07:41PM [connect]: \t Connected to project \"clt_sweep_3830um_120um\". No design detected\n",
      "INFO 07:41PM [connect_design]: \tOpened active design\n",
      "\tDesign:    CavitySweep [Solution type: Eigenmode]\n",
      "WARNING 07:41PM [connect_setup]: \tNo design setup detected.\n",
      "WARNING 07:41PM [connect_setup]: \tCreating eigenmode default setup.\n",
      "INFO 07:41PM [get_setup]: \tOpened setup `Setup`  (<class 'pyEPR.ansys.HfssEMSetup'>)\n",
      "INFO 07:42PM [connect_design]: \tOpened active design\n",
      "\tDesign:    CavitySweep_hfss [Solution type: Eigenmode]\n",
      "WARNING 07:42PM [connect_setup]: \tNo design setup detected.\n",
      "WARNING 07:42PM [connect_setup]: \tCreating eigenmode default setup.\n",
      "INFO 07:42PM [get_setup]: \tOpened setup `Setup`  (<class 'pyEPR.ansys.HfssEMSetup'>)\n"
     ]
    },
    {
     "name": "stdout",
     "output_type": "stream",
     "text": [
      "creaing porst\n",
      "Sim rendered into HFSS!\n"
     ]
    },
    {
     "name": "stderr",
     "output_type": "stream",
     "text": [
      "INFO 07:42PM [connect_project]: Connecting to Ansys Desktop API...\n",
      "INFO 07:42PM [load_ansys_project]: \tFile path to HFSS project found.\n",
      "INFO 07:42PM [load_ansys_project]: \tOpened Ansys App\n",
      "INFO 07:42PM [load_ansys_project]: \tOpened Ansys Desktop v2021.1.0\n"
     ]
    },
    {
     "name": "stdout",
     "output_type": "stream",
     "text": [
      "Rendering is done!\n",
      "==================================================\n",
      "==================================================\n",
      "Starting rendering...\n",
      "Setting project name\n",
      "d:\\andre\\paper_sweeps\\project_storage\n",
      "clt_sweep_3900um_120um\n"
     ]
    },
    {
     "name": "stderr",
     "output_type": "stream",
     "text": [
      "INFO 07:42PM [load_ansys_project]: \tOpened Ansys Project\n",
      "\tFolder:    d:/andre/paper_sweeps/project_storage/\n",
      "\tProject:   clt_sweep_3900um_120um\n",
      "INFO 07:42PM [connect_design]: No active design found (or error getting active design).\n",
      "INFO 07:42PM [connect]: \t Connected to project \"clt_sweep_3900um_120um\". No design detected\n",
      "INFO 07:42PM [connect_design]: \tOpened active design\n",
      "\tDesign:    CavitySweep [Solution type: Eigenmode]\n",
      "WARNING 07:42PM [connect_setup]: \tNo design setup detected.\n",
      "WARNING 07:42PM [connect_setup]: \tCreating eigenmode default setup.\n",
      "INFO 07:42PM [get_setup]: \tOpened setup `Setup`  (<class 'pyEPR.ansys.HfssEMSetup'>)\n",
      "INFO 07:42PM [__del__]: Disconnected from Ansys HFSS\n",
      "INFO 07:42PM [__del__]: Disconnected from Ansys HFSS\n",
      "INFO 07:42PM [__del__]: Disconnected from Ansys HFSS\n",
      "INFO 07:42PM [__del__]: Disconnected from Ansys HFSS\n",
      "INFO 07:42PM [connect_design]: \tOpened active design\n",
      "\tDesign:    CavitySweep_hfss [Solution type: Eigenmode]\n",
      "WARNING 07:42PM [connect_setup]: \tNo design setup detected.\n",
      "WARNING 07:42PM [connect_setup]: \tCreating eigenmode default setup.\n",
      "INFO 07:42PM [get_setup]: \tOpened setup `Setup`  (<class 'pyEPR.ansys.HfssEMSetup'>)\n"
     ]
    },
    {
     "name": "stdout",
     "output_type": "stream",
     "text": [
      "creaing porst\n",
      "Sim rendered into HFSS!\n"
     ]
    },
    {
     "name": "stderr",
     "output_type": "stream",
     "text": [
      "INFO 07:42PM [connect_project]: Connecting to Ansys Desktop API...\n",
      "INFO 07:42PM [load_ansys_project]: \tFile path to HFSS project found.\n",
      "INFO 07:42PM [load_ansys_project]: \tOpened Ansys App\n",
      "INFO 07:42PM [load_ansys_project]: \tOpened Ansys Desktop v2021.1.0\n"
     ]
    },
    {
     "name": "stdout",
     "output_type": "stream",
     "text": [
      "Rendering is done!\n",
      "==================================================\n",
      "==================================================\n",
      "Starting rendering...\n",
      "Setting project name\n",
      "d:\\andre\\paper_sweeps\\project_storage\n",
      "clt_sweep_3970um_120um\n"
     ]
    },
    {
     "name": "stderr",
     "output_type": "stream",
     "text": [
      "INFO 07:42PM [load_ansys_project]: \tOpened Ansys Project\n",
      "\tFolder:    d:/andre/paper_sweeps/project_storage/\n",
      "\tProject:   clt_sweep_3970um_120um\n",
      "INFO 07:42PM [connect_design]: No active design found (or error getting active design).\n",
      "INFO 07:42PM [connect]: \t Connected to project \"clt_sweep_3970um_120um\". No design detected\n",
      "INFO 07:42PM [connect_design]: \tOpened active design\n",
      "\tDesign:    CavitySweep [Solution type: Eigenmode]\n",
      "WARNING 07:42PM [connect_setup]: \tNo design setup detected.\n",
      "WARNING 07:42PM [connect_setup]: \tCreating eigenmode default setup.\n",
      "INFO 07:42PM [get_setup]: \tOpened setup `Setup`  (<class 'pyEPR.ansys.HfssEMSetup'>)\n",
      "INFO 07:42PM [connect_design]: \tOpened active design\n",
      "\tDesign:    CavitySweep_hfss [Solution type: Eigenmode]\n",
      "WARNING 07:42PM [connect_setup]: \tNo design setup detected.\n",
      "WARNING 07:42PM [connect_setup]: \tCreating eigenmode default setup.\n",
      "INFO 07:42PM [get_setup]: \tOpened setup `Setup`  (<class 'pyEPR.ansys.HfssEMSetup'>)\n"
     ]
    },
    {
     "name": "stdout",
     "output_type": "stream",
     "text": [
      "creaing porst\n",
      "Sim rendered into HFSS!\n"
     ]
    },
    {
     "name": "stderr",
     "output_type": "stream",
     "text": [
      "INFO 07:42PM [connect_project]: Connecting to Ansys Desktop API...\n",
      "INFO 07:42PM [load_ansys_project]: \tFile path to HFSS project found.\n",
      "INFO 07:42PM [load_ansys_project]: \tOpened Ansys App\n",
      "INFO 07:42PM [load_ansys_project]: \tOpened Ansys Desktop v2021.1.0\n"
     ]
    },
    {
     "name": "stdout",
     "output_type": "stream",
     "text": [
      "Rendering is done!\n",
      "==================================================\n",
      "==================================================\n",
      "Starting rendering...\n",
      "Setting project name\n",
      "d:\\andre\\paper_sweeps\\project_storage\n",
      "clt_sweep_3830um_130um\n"
     ]
    },
    {
     "name": "stderr",
     "output_type": "stream",
     "text": [
      "INFO 07:42PM [load_ansys_project]: \tOpened Ansys Project\n",
      "\tFolder:    d:/andre/paper_sweeps/project_storage/\n",
      "\tProject:   clt_sweep_3830um_130um\n",
      "INFO 07:42PM [connect_design]: No active design found (or error getting active design).\n",
      "INFO 07:42PM [connect]: \t Connected to project \"clt_sweep_3830um_130um\". No design detected\n",
      "INFO 07:42PM [connect_design]: \tOpened active design\n",
      "\tDesign:    CavitySweep [Solution type: Eigenmode]\n",
      "WARNING 07:42PM [connect_setup]: \tNo design setup detected.\n",
      "WARNING 07:42PM [connect_setup]: \tCreating eigenmode default setup.\n",
      "INFO 07:42PM [get_setup]: \tOpened setup `Setup`  (<class 'pyEPR.ansys.HfssEMSetup'>)\n",
      "INFO 07:42PM [connect_design]: \tOpened active design\n",
      "\tDesign:    CavitySweep_hfss [Solution type: Eigenmode]\n",
      "WARNING 07:42PM [connect_setup]: \tNo design setup detected.\n",
      "WARNING 07:42PM [connect_setup]: \tCreating eigenmode default setup.\n",
      "INFO 07:42PM [get_setup]: \tOpened setup `Setup`  (<class 'pyEPR.ansys.HfssEMSetup'>)\n"
     ]
    },
    {
     "name": "stdout",
     "output_type": "stream",
     "text": [
      "creaing porst\n",
      "Sim rendered into HFSS!\n"
     ]
    },
    {
     "name": "stderr",
     "output_type": "stream",
     "text": [
      "INFO 07:42PM [connect_project]: Connecting to Ansys Desktop API...\n",
      "INFO 07:42PM [load_ansys_project]: \tFile path to HFSS project found.\n",
      "INFO 07:42PM [load_ansys_project]: \tOpened Ansys App\n",
      "INFO 07:42PM [load_ansys_project]: \tOpened Ansys Desktop v2021.1.0\n"
     ]
    },
    {
     "name": "stdout",
     "output_type": "stream",
     "text": [
      "Rendering is done!\n",
      "==================================================\n",
      "==================================================\n",
      "Starting rendering...\n",
      "Setting project name\n",
      "d:\\andre\\paper_sweeps\\project_storage\n",
      "clt_sweep_3900um_130um\n"
     ]
    },
    {
     "name": "stderr",
     "output_type": "stream",
     "text": [
      "INFO 07:42PM [load_ansys_project]: \tOpened Ansys Project\n",
      "\tFolder:    d:/andre/paper_sweeps/project_storage/\n",
      "\tProject:   clt_sweep_3900um_130um\n",
      "INFO 07:42PM [connect_design]: No active design found (or error getting active design).\n",
      "INFO 07:42PM [connect]: \t Connected to project \"clt_sweep_3900um_130um\". No design detected\n",
      "INFO 07:43PM [connect_design]: \tOpened active design\n",
      "\tDesign:    CavitySweep [Solution type: Eigenmode]\n",
      "WARNING 07:43PM [connect_setup]: \tNo design setup detected.\n",
      "WARNING 07:43PM [connect_setup]: \tCreating eigenmode default setup.\n",
      "INFO 07:43PM [get_setup]: \tOpened setup `Setup`  (<class 'pyEPR.ansys.HfssEMSetup'>)\n",
      "INFO 07:43PM [connect_design]: \tOpened active design\n",
      "\tDesign:    CavitySweep_hfss [Solution type: Eigenmode]\n",
      "WARNING 07:43PM [connect_setup]: \tNo design setup detected.\n",
      "WARNING 07:43PM [connect_setup]: \tCreating eigenmode default setup.\n",
      "INFO 07:43PM [get_setup]: \tOpened setup `Setup`  (<class 'pyEPR.ansys.HfssEMSetup'>)\n"
     ]
    },
    {
     "name": "stdout",
     "output_type": "stream",
     "text": [
      "creaing porst\n",
      "Sim rendered into HFSS!\n"
     ]
    },
    {
     "name": "stderr",
     "output_type": "stream",
     "text": [
      "INFO 07:43PM [connect_project]: Connecting to Ansys Desktop API...\n",
      "INFO 07:43PM [load_ansys_project]: \tFile path to HFSS project found.\n",
      "INFO 07:43PM [load_ansys_project]: \tOpened Ansys App\n",
      "INFO 07:43PM [load_ansys_project]: \tOpened Ansys Desktop v2021.1.0\n"
     ]
    },
    {
     "name": "stdout",
     "output_type": "stream",
     "text": [
      "Rendering is done!\n",
      "==================================================\n",
      "==================================================\n",
      "Starting rendering...\n",
      "Setting project name\n",
      "d:\\andre\\paper_sweeps\\project_storage\n",
      "clt_sweep_3970um_130um\n"
     ]
    },
    {
     "name": "stderr",
     "output_type": "stream",
     "text": [
      "INFO 07:43PM [load_ansys_project]: \tOpened Ansys Project\n",
      "\tFolder:    d:/andre/paper_sweeps/project_storage/\n",
      "\tProject:   clt_sweep_3970um_130um\n",
      "INFO 07:43PM [connect_design]: No active design found (or error getting active design).\n",
      "INFO 07:43PM [connect]: \t Connected to project \"clt_sweep_3970um_130um\". No design detected\n",
      "INFO 07:43PM [connect_design]: \tOpened active design\n",
      "\tDesign:    CavitySweep [Solution type: Eigenmode]\n",
      "WARNING 07:43PM [connect_setup]: \tNo design setup detected.\n",
      "WARNING 07:43PM [connect_setup]: \tCreating eigenmode default setup.\n",
      "INFO 07:43PM [get_setup]: \tOpened setup `Setup`  (<class 'pyEPR.ansys.HfssEMSetup'>)\n",
      "INFO 07:43PM [connect_design]: \tOpened active design\n",
      "\tDesign:    CavitySweep_hfss [Solution type: Eigenmode]\n",
      "WARNING 07:43PM [connect_setup]: \tNo design setup detected.\n",
      "WARNING 07:43PM [connect_setup]: \tCreating eigenmode default setup.\n",
      "INFO 07:43PM [get_setup]: \tOpened setup `Setup`  (<class 'pyEPR.ansys.HfssEMSetup'>)\n",
      "INFO 07:43PM [__del__]: Disconnected from Ansys HFSS\n",
      "INFO 07:43PM [__del__]: Disconnected from Ansys HFSS\n",
      "INFO 07:43PM [__del__]: Disconnected from Ansys HFSS\n"
     ]
    },
    {
     "name": "stdout",
     "output_type": "stream",
     "text": [
      "creaing porst\n",
      "Sim rendered into HFSS!\n"
     ]
    },
    {
     "name": "stderr",
     "output_type": "stream",
     "text": [
      "INFO 07:43PM [connect_project]: Connecting to Ansys Desktop API...\n",
      "INFO 07:43PM [load_ansys_project]: \tFile path to HFSS project found.\n",
      "INFO 07:43PM [load_ansys_project]: \tOpened Ansys App\n",
      "INFO 07:43PM [load_ansys_project]: \tOpened Ansys Desktop v2021.1.0\n"
     ]
    },
    {
     "name": "stdout",
     "output_type": "stream",
     "text": [
      "Rendering is done!\n",
      "==================================================\n",
      "==================================================\n",
      "Starting rendering...\n",
      "Setting project name\n",
      "d:\\andre\\paper_sweeps\\project_storage\n",
      "clt_sweep_3830um_140um\n"
     ]
    },
    {
     "name": "stderr",
     "output_type": "stream",
     "text": [
      "INFO 07:43PM [load_ansys_project]: \tOpened Ansys Project\n",
      "\tFolder:    d:/andre/paper_sweeps/project_storage/\n",
      "\tProject:   clt_sweep_3830um_140um\n",
      "INFO 07:43PM [connect_design]: No active design found (or error getting active design).\n",
      "INFO 07:43PM [connect]: \t Connected to project \"clt_sweep_3830um_140um\". No design detected\n",
      "INFO 07:43PM [connect_design]: \tOpened active design\n",
      "\tDesign:    CavitySweep [Solution type: Eigenmode]\n",
      "WARNING 07:43PM [connect_setup]: \tNo design setup detected.\n",
      "WARNING 07:43PM [connect_setup]: \tCreating eigenmode default setup.\n",
      "INFO 07:43PM [get_setup]: \tOpened setup `Setup`  (<class 'pyEPR.ansys.HfssEMSetup'>)\n",
      "INFO 07:43PM [connect_design]: \tOpened active design\n",
      "\tDesign:    CavitySweep_hfss [Solution type: Eigenmode]\n",
      "WARNING 07:43PM [connect_setup]: \tNo design setup detected.\n",
      "WARNING 07:43PM [connect_setup]: \tCreating eigenmode default setup.\n",
      "INFO 07:43PM [get_setup]: \tOpened setup `Setup`  (<class 'pyEPR.ansys.HfssEMSetup'>)\n"
     ]
    },
    {
     "name": "stdout",
     "output_type": "stream",
     "text": [
      "creaing porst\n",
      "Sim rendered into HFSS!\n"
     ]
    },
    {
     "name": "stderr",
     "output_type": "stream",
     "text": [
      "INFO 07:43PM [connect_project]: Connecting to Ansys Desktop API...\n",
      "INFO 07:43PM [load_ansys_project]: \tFile path to HFSS project found.\n",
      "INFO 07:43PM [load_ansys_project]: \tOpened Ansys App\n",
      "INFO 07:43PM [load_ansys_project]: \tOpened Ansys Desktop v2021.1.0\n"
     ]
    },
    {
     "name": "stdout",
     "output_type": "stream",
     "text": [
      "Rendering is done!\n",
      "==================================================\n",
      "==================================================\n",
      "Starting rendering...\n",
      "Setting project name\n",
      "d:\\andre\\paper_sweeps\\project_storage\n",
      "clt_sweep_3900um_140um\n"
     ]
    },
    {
     "name": "stderr",
     "output_type": "stream",
     "text": [
      "INFO 07:43PM [load_ansys_project]: \tOpened Ansys Project\n",
      "\tFolder:    d:/andre/paper_sweeps/project_storage/\n",
      "\tProject:   clt_sweep_3900um_140um\n",
      "INFO 07:43PM [connect_design]: No active design found (or error getting active design).\n",
      "INFO 07:43PM [connect]: \t Connected to project \"clt_sweep_3900um_140um\". No design detected\n",
      "INFO 07:43PM [connect_design]: \tOpened active design\n",
      "\tDesign:    CavitySweep [Solution type: Eigenmode]\n",
      "WARNING 07:43PM [connect_setup]: \tNo design setup detected.\n",
      "WARNING 07:43PM [connect_setup]: \tCreating eigenmode default setup.\n",
      "INFO 07:43PM [get_setup]: \tOpened setup `Setup`  (<class 'pyEPR.ansys.HfssEMSetup'>)\n",
      "INFO 07:43PM [connect_design]: \tOpened active design\n",
      "\tDesign:    CavitySweep_hfss [Solution type: Eigenmode]\n",
      "WARNING 07:43PM [connect_setup]: \tNo design setup detected.\n",
      "WARNING 07:43PM [connect_setup]: \tCreating eigenmode default setup.\n",
      "INFO 07:43PM [get_setup]: \tOpened setup `Setup`  (<class 'pyEPR.ansys.HfssEMSetup'>)\n"
     ]
    },
    {
     "name": "stdout",
     "output_type": "stream",
     "text": [
      "creaing porst\n",
      "Sim rendered into HFSS!\n"
     ]
    },
    {
     "name": "stderr",
     "output_type": "stream",
     "text": [
      "INFO 07:44PM [connect_project]: Connecting to Ansys Desktop API...\n",
      "INFO 07:44PM [load_ansys_project]: \tFile path to HFSS project found.\n",
      "INFO 07:44PM [load_ansys_project]: \tOpened Ansys App\n",
      "INFO 07:44PM [load_ansys_project]: \tOpened Ansys Desktop v2021.1.0\n"
     ]
    },
    {
     "name": "stdout",
     "output_type": "stream",
     "text": [
      "Rendering is done!\n",
      "==================================================\n",
      "==================================================\n",
      "Starting rendering...\n",
      "Setting project name\n",
      "d:\\andre\\paper_sweeps\\project_storage\n",
      "clt_sweep_3970um_140um\n"
     ]
    },
    {
     "name": "stderr",
     "output_type": "stream",
     "text": [
      "INFO 07:44PM [load_ansys_project]: \tOpened Ansys Project\n",
      "\tFolder:    d:/andre/paper_sweeps/project_storage/\n",
      "\tProject:   clt_sweep_3970um_140um\n",
      "INFO 07:44PM [connect_design]: No active design found (or error getting active design).\n",
      "INFO 07:44PM [connect]: \t Connected to project \"clt_sweep_3970um_140um\". No design detected\n",
      "INFO 07:44PM [connect_design]: \tOpened active design\n",
      "\tDesign:    CavitySweep [Solution type: Eigenmode]\n",
      "WARNING 07:44PM [connect_setup]: \tNo design setup detected.\n",
      "WARNING 07:44PM [connect_setup]: \tCreating eigenmode default setup.\n",
      "INFO 07:44PM [get_setup]: \tOpened setup `Setup`  (<class 'pyEPR.ansys.HfssEMSetup'>)\n",
      "INFO 07:44PM [connect_design]: \tOpened active design\n",
      "\tDesign:    CavitySweep_hfss [Solution type: Eigenmode]\n",
      "WARNING 07:44PM [connect_setup]: \tNo design setup detected.\n",
      "WARNING 07:44PM [connect_setup]: \tCreating eigenmode default setup.\n",
      "INFO 07:44PM [get_setup]: \tOpened setup `Setup`  (<class 'pyEPR.ansys.HfssEMSetup'>)\n"
     ]
    },
    {
     "name": "stdout",
     "output_type": "stream",
     "text": [
      "creaing porst\n",
      "Sim rendered into HFSS!\n",
      "Rendering is done!\n",
      "==================================================\n",
      "==================================================\n",
      "Releasing Ansys Now\n",
      "==================================================\n"
     ]
    }
   ],
   "source": [
    "CLT_epr_sweep(design, sweep_opts_deployed, project_path)"
   ]
  },
  {
   "cell_type": "markdown",
   "metadata": {},
   "source": [
    "# Start 4 simulation jobs via \"Submit Jobs\"\n",
    "\n",
    "Monitor these jobs and start 4 more. Update the progress on OneNote"
   ]
  }
 ],
 "metadata": {
  "kernelspec": {
   "display_name": "Python 3",
   "language": "python",
   "name": "python3"
  },
  "language_info": {
   "codemirror_mode": {
    "name": "ipython",
    "version": 3
   },
   "file_extension": ".py",
   "mimetype": "text/x-python",
   "name": "python",
   "nbconvert_exporter": "python",
   "pygments_lexer": "ipython3",
   "version": "3.11.4"
  },
  "orig_nbformat": 4
 },
 "nbformat": 4,
 "nbformat_minor": 2
}
