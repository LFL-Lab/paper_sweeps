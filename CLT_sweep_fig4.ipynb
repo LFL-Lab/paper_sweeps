{
 "cells": [
  {
   "cell_type": "code",
   "execution_count": 1,
   "metadata": {},
   "outputs": [],
   "source": [
    "from utils import *\n",
    "from objects import *\n",
    "from sweeper_helperfunctions import *"
   ]
  },
  {
   "cell_type": "code",
   "execution_count": 2,
   "metadata": {},
   "outputs": [],
   "source": [
    "design = metal.designs.design_planar.DesignPlanar()\n",
    "gui = metal.MetalGUI(design)\n",
    "design.overwrite_enabled = True"
   ]
  },
  {
   "cell_type": "markdown",
   "metadata": {},
   "source": [
    "**Defining the bounds for sweep variables with everything else fixed to be compatible with Qubit+Claw LOM sims**"
   ]
  },
  {
   "cell_type": "code",
   "execution_count": 3,
   "metadata": {},
   "outputs": [],
   "source": [
    "cpw_sweep_opts = Dict(\n",
    "                fillet = '49.9um',\n",
    "                total_length = [\"3830um\"],#,\"3900um\",\"3970um\"],\n",
    "                trace_width = \"11.7um\",\n",
    "                trace_gap = '5.1um')"
   ]
  },
  {
   "cell_type": "code",
   "execution_count": 4,
   "metadata": {},
   "outputs": [],
   "source": [
    "claw_sweep_opts = dict(\n",
    "    connection_pads=dict(\n",
    "        readout = dict(connector_location = '90', \n",
    "                 connector_type = '0', \n",
    "                 claw_length = [f\"{70+i*10}um\" for i in range(2)], #39\n",
    "                 ground_spacing = '4.1um', \n",
    "                 claw_gap = '5.1um', \n",
    "                 claw_width = '15um',\n",
    "                 claw_cpw_width = \"11.7um\",\n",
    "                 claw_cpw_length = '0um'\n",
    "                 ),\n",
    "    ),\n",
    "    cross_width = '30um', # does not matter\n",
    "    cross_length = '240um',  # does not matter\n",
    "    cross_gap = '30um',  # does not matter\n",
    ")"
   ]
  },
  {
   "cell_type": "code",
   "execution_count": 5,
   "metadata": {},
   "outputs": [],
   "source": [
    "cplr_sweep_opts = Dict(prime_width = \"11.7um\",\n",
    "            prime_gap = '5.1um',\n",
    "            second_width = \"11.7um\",\n",
    "            second_gap = '5.1um',\n",
    "            coupling_space = '7.9um',\n",
    "            coupling_length = '225um',\n",
    "            open_termination = False,\n",
    "            down_length = '50um')"
   ]
  },
  {
   "cell_type": "markdown",
   "metadata": {},
   "source": [
    "**Update the simulation bounds to the part that you want to run on this machine**"
   ]
  },
  {
   "cell_type": "code",
   "execution_count": 6,
   "metadata": {},
   "outputs": [],
   "source": [
    "sweep_opts = Dict(claw_opts = claw_sweep_opts, cpw_opts = cpw_sweep_opts, cplr_opts = cplr_sweep_opts)"
   ]
  },
  {
   "cell_type": "markdown",
   "metadata": {},
   "source": [
    "# UPDATE `comp_id`!!!"
   ]
  },
  {
   "cell_type": "code",
   "execution_count": 7,
   "metadata": {},
   "outputs": [],
   "source": [
    "comps_available = {\n",
    "    \"Sabrina\":0,\n",
    "    \"Glinda\":1,\n",
    "    \"Saruman\":2,\n",
    "    \"VM1\":3, #?\n",
    "    \"VM2\":4, #?\n",
    "}"
   ]
  },
  {
   "cell_type": "code",
   "execution_count": 8,
   "metadata": {},
   "outputs": [],
   "source": [
    "comp_id = \"Sabrina\"  # Replace with actual computer name"
   ]
  },
  {
   "cell_type": "code",
   "execution_count": 9,
   "metadata": {},
   "outputs": [],
   "source": [
    "N = len(comps_available)  # Number of computers\n",
    "sweep_opts_chunks = chunk_sweep_options(sweep_opts, N)"
   ]
  },
  {
   "cell_type": "code",
   "execution_count": 10,
   "metadata": {},
   "outputs": [
    {
     "data": {
      "text/plain": [
       "{'claw_opts': {'connection_pads': {'readout': {'connector_location': '90',\n",
       "    'connector_type': '0',\n",
       "    'claw_length': ['70um', '80um'],\n",
       "    'ground_spacing': '4.1um',\n",
       "    'claw_gap': '5.1um',\n",
       "    'claw_width': '15um',\n",
       "    'claw_cpw_width': '11.7um',\n",
       "    'claw_cpw_length': '0um'}},\n",
       "  'cross_width': '30um',\n",
       "  'cross_length': '240um',\n",
       "  'cross_gap': '30um'},\n",
       " 'cpw_opts': {'fillet': '49.9um',\n",
       "  'total_length': ['3830um'],\n",
       "  'trace_width': '11.7um',\n",
       "  'trace_gap': '5.1um'},\n",
       " 'cplr_opts': {'prime_width': '11.7um',\n",
       "  'prime_gap': '5.1um',\n",
       "  'second_width': '11.7um',\n",
       "  'second_gap': '5.1um',\n",
       "  'coupling_space': '7.9um',\n",
       "  'coupling_length': '225um',\n",
       "  'open_termination': False,\n",
       "  'down_length': '50um'}}"
      ]
     },
     "execution_count": 10,
     "metadata": {},
     "output_type": "execute_result"
    }
   ],
   "source": [
    "#sweep_opts_deployed = sweep_opts_chunks[comps_available[comp_id]]  # Get the i-th chunk\n",
    "sweep_opts_deployed = sweep_opts\n",
    "sweep_opts_deployed"
   ]
  },
  {
   "cell_type": "markdown",
   "metadata": {},
   "source": [
    "**Creating the required projects**"
   ]
  },
  {
   "cell_type": "code",
   "execution_count": 11,
   "metadata": {},
   "outputs": [
    {
     "name": "stdout",
     "output_type": "stream",
     "text": [
      "UIDs have been written to \n",
      "d:\\andre\\paper_sweeps\\project_storage\\uids.csv\n"
     ]
    }
   ],
   "source": [
    "uids = []\n",
    "current_dir = os.getcwd()  # Current directory\n",
    "project_path = os.path.join(current_dir, 'project_storage')  #\n",
    "\n",
    "create_project_path(project_path)\n",
    "csv_path = os.path.join(project_path, 'uids.csv')\n",
    "\n",
    "for param in extract_QSweep_parameters(sweep_opts_deployed):\n",
    "    uid = '_'.join([param[\"cpw_opts\"][\"total_length\"], param[\"claw_opts\"][\"connection_pads\"][\"readout\"][\"claw_length\"]])\n",
    "    uids.append(f\"clt_sweep_{uid}\")\n",
    "\n",
    "write_uids_to_csv(uids, csv_path)\n",
    "print(f\"UIDs have been written to \\n{csv_path}\")"
   ]
  },
  {
   "cell_type": "markdown",
   "metadata": {},
   "source": [
    "Update `csv_path` in `create_new_project.py` with the path above ^"
   ]
  },
  {
   "cell_type": "markdown",
   "metadata": {},
   "source": [
    "# STOP AND RUN the `create_new_project.py` script within Ansys before proceeding"
   ]
  },
  {
   "cell_type": "markdown",
   "metadata": {},
   "source": [
    "If all the projects are now available. Render the design into them using the following two cells"
   ]
  },
  {
   "cell_type": "code",
   "execution_count": 14,
   "metadata": {},
   "outputs": [
    {
     "name": "stdout",
     "output_type": "stream",
     "text": [
      "Deleted: d:\\andre\\paper_sweeps\\project_storage\\clt_sweep_3900um_215um.aedt.lock\n"
     ]
    }
   ],
   "source": [
    "remove_lock_files(project_path)"
   ]
  },
  {
   "cell_type": "code",
   "execution_count": 16,
   "metadata": {},
   "outputs": [
    {
     "name": "stderr",
     "output_type": "stream",
     "text": [
      "INFO 03:36PM [connect_project]: Connecting to Ansys Desktop API...\n"
     ]
    },
    {
     "name": "stdout",
     "output_type": "stream",
     "text": [
      "==================================================\n",
      "Starting rendering...\n",
      "Setting project name\n",
      "d:\\andre\\paper_sweeps\\project_storage\n",
      "clt_sweep_3830um_70um\n"
     ]
    },
    {
     "ename": "Exception",
     "evalue": "ERROR! Valid directory, but invalid project filename. 😭 Not found!                     Please check your filename.\nd:\\andre\\paper_sweeps\\project_storage\\clt_sweep_3830um_70um.aedt\n",
     "output_type": "error",
     "traceback": [
      "\u001b[1;31m---------------------------------------------------------------------------\u001b[0m",
      "\u001b[1;31mException\u001b[0m                                 Traceback (most recent call last)",
      "\u001b[1;32md:\\andre\\paper_sweeps\\CLT_sweep_fig4.ipynb Cell 20\u001b[0m line \u001b[0;36m1\n\u001b[1;32m----> <a href='vscode-notebook-cell:/d%3A/andre/paper_sweeps/CLT_sweep_fig4.ipynb#X25sZmlsZQ%3D%3D?line=0'>1</a>\u001b[0m CLT_epr_sweep(design, sweep_opts_deployed, project_path)\n",
      "File \u001b[1;32md:\\andre\\paper_sweeps\\objects.py:52\u001b[0m, in \u001b[0;36mCLT_epr_sweep\u001b[1;34m(design, sweep_opts, project_path)\u001b[0m\n\u001b[0;32m     45\u001b[0m \u001b[39m# Generate a UID with a datetime stamp\u001b[39;00m\n\u001b[0;32m     46\u001b[0m \u001b[39m#datetime_stamp = datetime.now().strftime(\"%Y%m%d%H%M%S\")\u001b[39;00m\n\u001b[0;32m     47\u001b[0m \n\u001b[0;32m     48\u001b[0m \u001b[39m# Combine uid_base with datetime_stamp\u001b[39;00m\n\u001b[0;32m     49\u001b[0m \u001b[39m#uid = f\"{uid_base}_{datetime_stamp}\"\u001b[39;00m\n\u001b[0;32m     51\u001b[0m config \u001b[39m=\u001b[39m SimulationConfig(uid\u001b[39m=\u001b[39muid_base)\n\u001b[1;32m---> 52\u001b[0m epra, hfss \u001b[39m=\u001b[39m start_simulation(design, config, project_path)\n\u001b[0;32m     53\u001b[0m setup \u001b[39m=\u001b[39m set_simulation_hyperparameters(epra, config)\n\u001b[0;32m     54\u001b[0m epra\u001b[39m.\u001b[39msim\u001b[39m.\u001b[39mrenderer\u001b[39m.\u001b[39moptions\u001b[39m.\u001b[39mmax_mesh_length_port \u001b[39m=\u001b[39m \u001b[39m'\u001b[39m\u001b[39m4um\u001b[39m\u001b[39m'\u001b[39m\n",
      "File \u001b[1;32md:\\andre\\paper_sweeps\\objects.py:198\u001b[0m, in \u001b[0;36mstart_simulation\u001b[1;34m(design, config, project_path)\u001b[0m\n\u001b[0;32m    196\u001b[0m hfss\u001b[39m.\u001b[39moptions\u001b[39m.\u001b[39mproject_path \u001b[39m=\u001b[39m project_path\n\u001b[0;32m    197\u001b[0m hfss\u001b[39m.\u001b[39moptions\u001b[39m.\u001b[39mproject_name \u001b[39m=\u001b[39m \u001b[39mf\u001b[39m\u001b[39m\"\u001b[39m\u001b[39mclt_sweep_\u001b[39m\u001b[39m{\u001b[39;00mconfig\u001b[39m.\u001b[39muid\u001b[39m}\u001b[39;00m\u001b[39m\"\u001b[39m\n\u001b[1;32m--> 198\u001b[0m hfss\u001b[39m.\u001b[39;49mstart()\n\u001b[0;32m    199\u001b[0m hfss\u001b[39m.\u001b[39mnew_ansys_design(config\u001b[39m.\u001b[39mdesign_name, config\u001b[39m.\u001b[39msim_type)\n\u001b[0;32m    200\u001b[0m \u001b[39mreturn\u001b[39;00m epra, hfss\n",
      "File \u001b[1;32mc:\\users\\lfl\\qiskit-metal\\qiskit_metal\\renderers\\renderer_base\\renderer_base.py:378\u001b[0m, in \u001b[0;36mQRenderer.start\u001b[1;34m(self, force)\u001b[0m\n\u001b[0;32m    373\u001b[0m         \u001b[39mself\u001b[39m\u001b[39m.\u001b[39m_close_renderer()\n\u001b[0;32m    375\u001b[0m \u001b[39m# TODO: move the code line below to inside the `if force or not initiated`,\u001b[39;00m\n\u001b[0;32m    376\u001b[0m \u001b[39m#  but only after the TODO before the `if` is completed\u001b[39;00m\n\u001b[0;32m    377\u001b[0m \u001b[39m# try to initialize the renderer\u001b[39;00m\n\u001b[1;32m--> 378\u001b[0m \u001b[39mself\u001b[39m\u001b[39m.\u001b[39minitiated \u001b[39m=\u001b[39m \u001b[39mself\u001b[39;49m\u001b[39m.\u001b[39;49m_initiate_renderer()\n\u001b[0;32m    380\u001b[0m \u001b[39mreturn\u001b[39;00m \u001b[39mself\u001b[39m\u001b[39m.\u001b[39minitiated\n",
      "File \u001b[1;32mc:\\users\\lfl\\qiskit-metal\\qiskit_metal\\renderers\\renderer_ansys\\ansys_renderer.py:307\u001b[0m, in \u001b[0;36mQAnsysRenderer._initiate_renderer\u001b[1;34m(self)\u001b[0m\n\u001b[0;32m    305\u001b[0m \u001b[39mif\u001b[39;00m \u001b[39mself\u001b[39m\u001b[39m.\u001b[39mrdesktop\u001b[39m.\u001b[39mproject_count() \u001b[39m==\u001b[39m \u001b[39m0\u001b[39m:\n\u001b[0;32m    306\u001b[0m     \u001b[39mself\u001b[39m\u001b[39m.\u001b[39mrdesktop\u001b[39m.\u001b[39mnew_project()\n\u001b[1;32m--> 307\u001b[0m \u001b[39mself\u001b[39;49m\u001b[39m.\u001b[39;49mconnect_ansys()  \u001b[39m# TODO: can this be done differently?\u001b[39;00m\n\u001b[0;32m    309\u001b[0m \u001b[39m# return True to indicate successful completion\u001b[39;00m\n\u001b[0;32m    310\u001b[0m \u001b[39mreturn\u001b[39;00m \u001b[39mTrue\u001b[39;00m\n",
      "File \u001b[1;32mc:\\users\\lfl\\qiskit-metal\\qiskit_metal\\renderers\\renderer_ansys\\ansys_renderer.py:410\u001b[0m, in \u001b[0;36mQAnsysRenderer.connect_ansys\u001b[1;34m(self, project_path, project_name, design_name)\u001b[0m\n\u001b[0;32m    407\u001b[0m \u001b[39mimport\u001b[39;00m \u001b[39mpythoncom\u001b[39;00m\n\u001b[0;32m    409\u001b[0m \u001b[39mtry\u001b[39;00m:\n\u001b[1;32m--> 410\u001b[0m     \u001b[39mself\u001b[39m\u001b[39m.\u001b[39m_pinfo \u001b[39m=\u001b[39m epr\u001b[39m.\u001b[39;49mProjectInfo(\n\u001b[0;32m    411\u001b[0m         do_connect\u001b[39m=\u001b[39;49m\u001b[39mTrue\u001b[39;49;00m,\n\u001b[0;32m    412\u001b[0m         project_path\u001b[39m=\u001b[39;49m\u001b[39mself\u001b[39;49m\u001b[39m.\u001b[39;49m_options[\u001b[39m\"\u001b[39;49m\u001b[39mproject_path\u001b[39;49m\u001b[39m\"\u001b[39;49m]\n\u001b[0;32m    413\u001b[0m         \u001b[39mif\u001b[39;49;00m \u001b[39mnot\u001b[39;49;00m project_path \u001b[39melse\u001b[39;49;00m project_path,\n\u001b[0;32m    414\u001b[0m         project_name\u001b[39m=\u001b[39;49m\u001b[39mself\u001b[39;49m\u001b[39m.\u001b[39;49m_options[\u001b[39m\"\u001b[39;49m\u001b[39mproject_name\u001b[39;49m\u001b[39m\"\u001b[39;49m]\n\u001b[0;32m    415\u001b[0m         \u001b[39mif\u001b[39;49;00m \u001b[39mnot\u001b[39;49;00m project_name \u001b[39melse\u001b[39;49;00m project_name,\n\u001b[0;32m    416\u001b[0m         design_name\u001b[39m=\u001b[39;49m\u001b[39mself\u001b[39;49m\u001b[39m.\u001b[39;49m_options[\u001b[39m'\u001b[39;49m\u001b[39mdesign_name\u001b[39;49m\u001b[39m'\u001b[39;49m]\n\u001b[0;32m    417\u001b[0m         \u001b[39mif\u001b[39;49;00m \u001b[39mnot\u001b[39;49;00m design_name \u001b[39melse\u001b[39;49;00m design_name)\n\u001b[0;32m    418\u001b[0m \u001b[39mexcept\u001b[39;00m pythoncom\u001b[39m.\u001b[39mcom_error \u001b[39mas\u001b[39;00m error:  \u001b[39m# pylint: disable=no-member\u001b[39;00m\n\u001b[0;32m    419\u001b[0m     \u001b[39mprint\u001b[39m(\u001b[39m\"\u001b[39m\u001b[39mcom_error: \u001b[39m\u001b[39m\"\u001b[39m, error)\n",
      "File \u001b[1;32mc:\\Users\\lfl\\.conda\\envs\\qiskit_metal\\Lib\\site-packages\\pyEPR\\project_info.py:224\u001b[0m, in \u001b[0;36mProjectInfo.__init__\u001b[1;34m(self, project_path, project_name, design_name, setup_name, dielectrics_bulk, dielectric_surfaces, resistive_surfaces, seams, do_connect)\u001b[0m\n\u001b[0;32m    221\u001b[0m \u001b[39mself\u001b[39m\u001b[39m.\u001b[39msetup \u001b[39m=\u001b[39m \u001b[39mNone\u001b[39;00m\n\u001b[0;32m    223\u001b[0m \u001b[39mif\u001b[39;00m do_connect:\n\u001b[1;32m--> 224\u001b[0m     \u001b[39mself\u001b[39;49m\u001b[39m.\u001b[39;49mconnect()\n\u001b[0;32m    225\u001b[0m     \u001b[39mself\u001b[39m\u001b[39m.\u001b[39mdissipative[\u001b[39m'\u001b[39m\u001b[39mpinfo\u001b[39m\u001b[39m'\u001b[39m] \u001b[39m=\u001b[39m \u001b[39mself\u001b[39m\n",
      "File \u001b[1;32mc:\\Users\\lfl\\.conda\\envs\\qiskit_metal\\Lib\\site-packages\\pyEPR\\project_info.py:360\u001b[0m, in \u001b[0;36mProjectInfo.connect\u001b[1;34m(self)\u001b[0m\n\u001b[0;32m    354\u001b[0m \u001b[39mdef\u001b[39;00m \u001b[39mconnect\u001b[39m(\u001b[39mself\u001b[39m):\n\u001b[0;32m    355\u001b[0m \u001b[39m    \u001b[39m\u001b[39m\"\"\"\u001b[39;00m\n\u001b[0;32m    356\u001b[0m \u001b[39m    Do establish connection to Ansys desktop.\u001b[39;00m\n\u001b[0;32m    357\u001b[0m \u001b[39m    Connects to project and then get design and setup\u001b[39;00m\n\u001b[0;32m    358\u001b[0m \u001b[39m    \"\"\"\u001b[39;00m\n\u001b[1;32m--> 360\u001b[0m     \u001b[39mself\u001b[39;49m\u001b[39m.\u001b[39;49mconnect_project()\n\u001b[0;32m    361\u001b[0m     \u001b[39mif\u001b[39;00m \u001b[39mnot\u001b[39;00m \u001b[39mself\u001b[39m\u001b[39m.\u001b[39mproject:\n\u001b[0;32m    362\u001b[0m         logger\u001b[39m.\u001b[39minfo(\u001b[39m'\u001b[39m\u001b[39m\\t\u001b[39;00m\u001b[39mConnection to Ansys NOT established.  \u001b[39m\u001b[39m\\n\u001b[39;00m\u001b[39m'\u001b[39m)\n",
      "File \u001b[1;32mc:\\Users\\lfl\\.conda\\envs\\qiskit_metal\\Lib\\site-packages\\pyEPR\\project_info.py:254\u001b[0m, in \u001b[0;36mProjectInfo.connect_project\u001b[1;34m(self)\u001b[0m\n\u001b[0;32m    245\u001b[0m \u001b[39m\u001b[39m\u001b[39m\"\"\"Sets \u001b[39;00m\n\u001b[0;32m    246\u001b[0m \u001b[39mself.app\u001b[39;00m\n\u001b[0;32m    247\u001b[0m \u001b[39mself.desktop\u001b[39;00m\n\u001b[1;32m   (...)\u001b[0m\n\u001b[0;32m    250\u001b[0m \u001b[39mself.project_path \u001b[39;00m\n\u001b[0;32m    251\u001b[0m \u001b[39m\"\"\"\u001b[39;00m\n\u001b[0;32m    252\u001b[0m logger\u001b[39m.\u001b[39minfo(\u001b[39m'\u001b[39m\u001b[39mConnecting to Ansys Desktop API...\u001b[39m\u001b[39m'\u001b[39m)\n\u001b[1;32m--> 254\u001b[0m \u001b[39mself\u001b[39m\u001b[39m.\u001b[39mapp, \u001b[39mself\u001b[39m\u001b[39m.\u001b[39mdesktop, \u001b[39mself\u001b[39m\u001b[39m.\u001b[39mproject \u001b[39m=\u001b[39m ansys\u001b[39m.\u001b[39;49mload_ansys_project(\n\u001b[0;32m    255\u001b[0m     \u001b[39mself\u001b[39;49m\u001b[39m.\u001b[39;49mproject_name, \u001b[39mself\u001b[39;49m\u001b[39m.\u001b[39;49mproject_path)\n\u001b[0;32m    257\u001b[0m \u001b[39mif\u001b[39;00m \u001b[39mself\u001b[39m\u001b[39m.\u001b[39mproject:\n\u001b[0;32m    258\u001b[0m     \u001b[39m# TODO: should be property?\u001b[39;00m\n\u001b[0;32m    259\u001b[0m     \u001b[39mself\u001b[39m\u001b[39m.\u001b[39mproject_name \u001b[39m=\u001b[39m \u001b[39mself\u001b[39m\u001b[39m.\u001b[39mproject\u001b[39m.\u001b[39mname\n",
      "File \u001b[1;32mc:\\Users\\lfl\\.conda\\envs\\qiskit_metal\\Lib\\site-packages\\pyEPR\\ansys.py:3233\u001b[0m, in \u001b[0;36mload_ansys_project\u001b[1;34m(proj_name, project_path, extension)\u001b[0m\n\u001b[0;32m   3231\u001b[0m     logger\u001b[39m.\u001b[39minfo(\u001b[39m'\u001b[39m\u001b[39m\\t\u001b[39;00m\u001b[39mFile path to HFSS project found.\u001b[39m\u001b[39m'\u001b[39m)\n\u001b[0;32m   3232\u001b[0m \u001b[39melse\u001b[39;00m:\n\u001b[1;32m-> 3233\u001b[0m     \u001b[39mraise\u001b[39;00m \u001b[39mException\u001b[39;00m(\n\u001b[0;32m   3234\u001b[0m         \u001b[39m\"\u001b[39m\u001b[39mERROR! Valid directory, but invalid project filename. \u001b[39m\u001b[39m\\N{loudly crying face}\u001b[39;00m\u001b[39m Not found!\u001b[39m\u001b[39m\\\u001b[39;00m\n\u001b[0;32m   3235\u001b[0m \u001b[39m             Please check your filename.\u001b[39m\u001b[39m\\n\u001b[39;00m\u001b[39m%s\u001b[39;00m\u001b[39m\\n\u001b[39;00m\u001b[39m\"\u001b[39m \u001b[39m%\u001b[39m project_path)\n\u001b[0;32m   3237\u001b[0m \u001b[39mif\u001b[39;00m (project_path \u001b[39m/\u001b[39m \u001b[39m'\u001b[39m\u001b[39m.lock\u001b[39m\u001b[39m'\u001b[39m)\u001b[39m.\u001b[39mis_file():\n\u001b[0;32m   3238\u001b[0m     logger\u001b[39m.\u001b[39mwarning(\n\u001b[0;32m   3239\u001b[0m         \u001b[39m'\u001b[39m\u001b[39m\\t\u001b[39;00m\u001b[39m\\t\u001b[39;00m\u001b[39mFile is locked. \u001b[39m\u001b[39m\\N{fearful face}\u001b[39;00m\u001b[39m If connection fails, delete the .lock file.\u001b[39m\u001b[39m'\u001b[39m\n\u001b[0;32m   3240\u001b[0m     )\n",
      "\u001b[1;31mException\u001b[0m: ERROR! Valid directory, but invalid project filename. 😭 Not found!                     Please check your filename.\nd:\\andre\\paper_sweeps\\project_storage\\clt_sweep_3830um_70um.aedt\n"
     ]
    }
   ],
   "source": [
    "CLT_epr_sweep(design, sweep_opts_deployed, project_path)"
   ]
  },
  {
   "cell_type": "markdown",
   "metadata": {},
   "source": [
    "# Start 4 simulation jobs via \"Submit Jobs\"\n",
    "\n",
    "Monitor these jobs and start 4 more. Update the progress on OneNote"
   ]
  },
  {
   "cell_type": "code",
   "execution_count": null,
   "metadata": {},
   "outputs": [],
   "source": [
    "import csv\n",
    "import os\n",
    "import pyEPR as epr\n",
    "\n",
    "\n",
    "def get_pinfo(path, project_name, design_name):\n",
    "    pinfo = epr.ProjectInfo(project_path=path,\n",
    "                            project_name=project_name,\n",
    "                            design_name=design_name)\n",
    "    return pinfo\n",
    "\n",
    "# Define the CSV file path and project directory\n",
    "#csv_path = r\"D:\\andre\\cavity_sweeps\\project_storage\\uids.csv\" # change this\n",
    "#project_path = os.path.dirname(csv_path)\n",
    "\n",
    "# design name\n",
    "design_name = \"CavitySweep_hfss\"\n",
    "\n",
    "# Initialize a list to hold pinfo objects\n",
    "pinfo_objects = []\n",
    "\n",
    "# Read the project names from the CSV file\n",
    "\n",
    "with open(csv_path, 'r') as csvfile:\n",
    "    csv_reader = csv.reader(csvfile)\n",
    "    header = next(csv_reader)  # Skip the header\n",
    "    for row in csv_reader:\n",
    "        project_name = row[0]\n",
    "        print(project_name)\n",
    "        # Generate the pinfo object for each project\n",
    "        try:\n",
    "            pinfo = get_pinfo(project_path, project_name, design_name)\n",
    "            pinfo_objects.append(pinfo)\n",
    "        except:\n",
    "            print(f\"Skipping {project_name}\")\n",
    "\n",
    "\n",
    "# Andre cavity sweep setup used\n",
    "setup = {\n",
    "        \"sim_type\": \"epr\",\n",
    "        \"setup\": {\n",
    "            \"name\": \"Setup\",\n",
    "            \"reuse_selected_design\": True,\n",
    "            \"reuse_setup\": True,\n",
    "            \"min_freq_ghz\": 1,\n",
    "            \"n_modes\": 1,\n",
    "            \"max_delta_f\": 0.05,\n",
    "            \"max_passes\": 50,\n",
    "            \"min_passes\": 1,\n",
    "            \"min_converged\": 1,\n",
    "            \"pct_refinement\": 30,\n",
    "            \"basis_order\": 1,\n",
    "            \"vars\": {\n",
    "                \"Lj\": \"0nH\",\n",
    "                \"Cj\": \"0fF\"\n",
    "            },\n",
    "            \"min_converged_passes\": 2\n",
    "        }\n",
    "    }\n"
   ]
  },
  {
   "cell_type": "code",
   "execution_count": null,
   "metadata": {},
   "outputs": [],
   "source": [
    "pinfo_objects[0].design_name"
   ]
  },
  {
   "cell_type": "code",
   "execution_count": null,
   "metadata": {},
   "outputs": [],
   "source": [
    "# analayze and store the data\n",
    "for i,param in enumerate(extract_QSweep_parameters(sweep_opts_deployed)):\n",
    "    try:\n",
    "        # read results\n",
    "        pinfo = pinfo_objects[i]\n",
    "        \n",
    "        # setup pyEPR\n",
    "        pinfo.dissipative['dielectrics_bulk'] = ['main'] # Dissipative elements: specify\n",
    "        # Next 2 lines are counterinuitive, since there is no junction in this resonator.\n",
    "        # However, these are necessary to make pyEPR work correctly. Please do note delete\n",
    "        pinfo.design.set_variable('Lj', '12 nH')\n",
    "        pinfo.design.set_variable('Cj', '1 fF')\n",
    "        pinfo.validate_junction_info() # Check that valid names of variables and objects have been supplied.\n",
    "\n",
    "        # get results\n",
    "        eprh = epr.DistributedAnalysis(pinfo) # epr hfss analysis \n",
    "        epr_data = eprh.get_ansys_frequencies_all()\n",
    "        freq = epr_data[\"Freq. (GHz)\"].values[0] # GHz\n",
    "        Q = epr_data[\"Quality Factor\"].values[0] # unitless\n",
    "        kappa = (freq*1e9 / Q)*1e-6 # MHz\n",
    "\n",
    "        #store results\n",
    "\n",
    "        data_df = {\n",
    "            \"design_options\": {\n",
    "                \"coupling_type\": \"CLT\",\n",
    "                \"geometry_dict\": param\n",
    "            },\n",
    "            \"sim_options\": {\n",
    "                \"sim_type\": \"epr\",\n",
    "                \"setup\": setup,\n",
    "            },\n",
    "            \"sim_results\": {\n",
    "                \"cavity_frequency\": freq,\n",
    "                \"Q\": Q,\n",
    "                \"kappa\": kappa\n",
    "            },\n",
    "            \"misc\": {}\n",
    "        }\n",
    "\n",
    "        # filename = f\"CLT_cpw{cpw.options.total_length}_claw{claw.options.connection_pads.readout.claw_width}_clength{coupler.options.coupling_length}\"\n",
    "        save_simulation_data_to_json(data_df, pinfo.project_name)\n",
    "    except:\n",
    "        print(f\"{pinfo.project_name} didn't work\")"
   ]
  },
  {
   "cell_type": "code",
   "execution_count": null,
   "metadata": {},
   "outputs": [],
   "source": []
  }
 ],
 "metadata": {
  "kernelspec": {
   "display_name": "Python 3",
   "language": "python",
   "name": "python3"
  },
  "language_info": {
   "codemirror_mode": {
    "name": "ipython",
    "version": 3
   },
   "file_extension": ".py",
   "mimetype": "text/x-python",
   "name": "python",
   "nbconvert_exporter": "python",
   "pygments_lexer": "ipython3",
   "version": "3.11.4"
  },
  "orig_nbformat": 4
 },
 "nbformat": 4,
 "nbformat_minor": 2
}
